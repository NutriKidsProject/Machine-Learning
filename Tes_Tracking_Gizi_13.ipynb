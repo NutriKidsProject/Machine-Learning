{
  "nbformat": 4,
  "nbformat_minor": 0,
  "metadata": {
    "colab": {
      "provenance": []
    },
    "kernelspec": {
      "name": "python3",
      "display_name": "Python 3"
    },
    "language_info": {
      "name": "python"
    }
  },
  "cells": [
    {
      "cell_type": "code",
      "execution_count": 70,
      "metadata": {
        "colab": {
          "base_uri": "https://localhost:8080/"
        },
        "id": "pF_nrXLVjWEA",
        "outputId": "0c2d402f-b0a5-4b41-b65e-7a7db0170a9e"
      },
      "outputs": [
        {
          "output_type": "stream",
          "name": "stdout",
          "text": [
            "Drive already mounted at /content/drive; to attempt to forcibly remount, call drive.mount(\"/content/drive\", force_remount=True).\n"
          ]
        }
      ],
      "source": [
        "import pandas as pd\n",
        "import numpy as np\n",
        "from sklearn.model_selection import train_test_split\n",
        "from sklearn.preprocessing import MinMaxScaler, LabelEncoder\n",
        "from sklearn.metrics import classification_report, accuracy_score\n",
        "import tensorflow as tf\n",
        "from tensorflow.keras.models import Sequential, Model\n",
        "from tensorflow.keras.layers import Dense, LSTM, Input, Concatenate, BatchNormalization\n",
        "from tensorflow.keras.layers import Dropout, LeakyReLU\n",
        "from tensorflow.keras.optimizers import Adam\n",
        "from tensorflow.keras.regularizers import l2\n",
        "from tensorflow.keras.optimizers import RMSprop\n",
        "from tensorflow.keras.callbacks import EarlyStopping\n",
        "import seaborn as sns\n",
        "import matplotlib.pyplot as plt\n",
        "from sklearn.model_selection import RandomizedSearchCV\n",
        "from google.colab import drive\n",
        "import json\n",
        "import shutil\n",
        "\n",
        "# Mount Google Drive\n",
        "drive.mount('/content/drive')\n",
        "\n",
        "# Path folder di Google Drive untuk menyimpan model\n",
        "drive_path = \"/content/drive/My Drive/Colab Notebooks/Ekspor Models\"\n"
      ]
    },
    {
      "cell_type": "markdown",
      "source": [],
      "metadata": {
        "id": "zj2TFGPdkHxd"
      }
    },
    {
      "cell_type": "code",
      "source": [
        "# Path dataset\n",
        "dataset_path_data_gizi_anak = \"/content/drive/My Drive/Colab Notebooks/Datasets/gizi_anak_indonesia_200.csv\"\n",
        "dataset_path_food_data = \"/content/drive/My Drive/Colab Notebooks/Datasets/FOOD-DATA-GROUP5-CLEANED.csv\"\n",
        "\n",
        "# Membaca dataset\n",
        "growth_data = pd.read_csv(dataset_path_data_gizi_anak)\n",
        "food_data = pd.read_csv(dataset_path_food_data)\n"
      ],
      "metadata": {
        "id": "DMAuL0cDkH7M"
      },
      "execution_count": 33,
      "outputs": []
    },
    {
      "cell_type": "markdown",
      "source": [],
      "metadata": {
        "id": "dpZcoAnXkMYE"
      }
    },
    {
      "cell_type": "code",
      "source": [
        "growth_data.head()"
      ],
      "metadata": {
        "colab": {
          "base_uri": "https://localhost:8080/",
          "height": 206
        },
        "id": "5CMlh4CGE7t8",
        "outputId": "6ba703df-d28f-4102-a31a-c0d26f05e25d"
      },
      "execution_count": 34,
      "outputs": [
        {
          "output_type": "execute_result",
          "data": {
            "text/plain": [
              "   Usia (Tahun) Jenis Kelamin  Tinggi Badan (cm)  Berat Badan (kg)    BMI  \\\n",
              "0             9     Perempuan               91.5              23.4  21.46   \n",
              "1             6     Laki-laki              115.6              42.5  21.45   \n",
              "2            11     Laki-laki              144.2              23.7  24.27   \n",
              "3             4     Perempuan              133.8              31.5  21.25   \n",
              "4             7     Laki-laki              125.3              19.9  15.20   \n",
              "\n",
              "   Status Gizi  Kalori  Protein  Lemak  Karbohidrat  Vitamin C   Zat Besi  \\\n",
              "0    Gizi baik    1099       39     39          139         92   5.291259   \n",
              "1    Gizi baik    2115       20     42          103         90  10.806619   \n",
              "2  Gizi kurang    1932       57     26          143         57  10.970936   \n",
              "3   Gizi lebih    1230       28     35          247         22   5.214026   \n",
              "4    Gizi baik    1918       39     46          123         46  12.325367   \n",
              "\n",
              "   Kalsium            Riwayat Penyakit  \n",
              "0      779  Infeksi Saluran Pernafasan  \n",
              "1      885                  Malnutrisi  \n",
              "2      440                   Tidak ada  \n",
              "3      966                   Tidak ada  \n",
              "4      932                   Tidak ada  "
            ],
            "text/html": [
              "\n",
              "  <div id=\"df-08e0af45-b617-4ecc-97d3-a605c5ece299\" class=\"colab-df-container\">\n",
              "    <div>\n",
              "<style scoped>\n",
              "    .dataframe tbody tr th:only-of-type {\n",
              "        vertical-align: middle;\n",
              "    }\n",
              "\n",
              "    .dataframe tbody tr th {\n",
              "        vertical-align: top;\n",
              "    }\n",
              "\n",
              "    .dataframe thead th {\n",
              "        text-align: right;\n",
              "    }\n",
              "</style>\n",
              "<table border=\"1\" class=\"dataframe\">\n",
              "  <thead>\n",
              "    <tr style=\"text-align: right;\">\n",
              "      <th></th>\n",
              "      <th>Usia (Tahun)</th>\n",
              "      <th>Jenis Kelamin</th>\n",
              "      <th>Tinggi Badan (cm)</th>\n",
              "      <th>Berat Badan (kg)</th>\n",
              "      <th>BMI</th>\n",
              "      <th>Status Gizi</th>\n",
              "      <th>Kalori</th>\n",
              "      <th>Protein</th>\n",
              "      <th>Lemak</th>\n",
              "      <th>Karbohidrat</th>\n",
              "      <th>Vitamin C</th>\n",
              "      <th>Zat Besi</th>\n",
              "      <th>Kalsium</th>\n",
              "      <th>Riwayat Penyakit</th>\n",
              "    </tr>\n",
              "  </thead>\n",
              "  <tbody>\n",
              "    <tr>\n",
              "      <th>0</th>\n",
              "      <td>9</td>\n",
              "      <td>Perempuan</td>\n",
              "      <td>91.5</td>\n",
              "      <td>23.4</td>\n",
              "      <td>21.46</td>\n",
              "      <td>Gizi baik</td>\n",
              "      <td>1099</td>\n",
              "      <td>39</td>\n",
              "      <td>39</td>\n",
              "      <td>139</td>\n",
              "      <td>92</td>\n",
              "      <td>5.291259</td>\n",
              "      <td>779</td>\n",
              "      <td>Infeksi Saluran Pernafasan</td>\n",
              "    </tr>\n",
              "    <tr>\n",
              "      <th>1</th>\n",
              "      <td>6</td>\n",
              "      <td>Laki-laki</td>\n",
              "      <td>115.6</td>\n",
              "      <td>42.5</td>\n",
              "      <td>21.45</td>\n",
              "      <td>Gizi baik</td>\n",
              "      <td>2115</td>\n",
              "      <td>20</td>\n",
              "      <td>42</td>\n",
              "      <td>103</td>\n",
              "      <td>90</td>\n",
              "      <td>10.806619</td>\n",
              "      <td>885</td>\n",
              "      <td>Malnutrisi</td>\n",
              "    </tr>\n",
              "    <tr>\n",
              "      <th>2</th>\n",
              "      <td>11</td>\n",
              "      <td>Laki-laki</td>\n",
              "      <td>144.2</td>\n",
              "      <td>23.7</td>\n",
              "      <td>24.27</td>\n",
              "      <td>Gizi kurang</td>\n",
              "      <td>1932</td>\n",
              "      <td>57</td>\n",
              "      <td>26</td>\n",
              "      <td>143</td>\n",
              "      <td>57</td>\n",
              "      <td>10.970936</td>\n",
              "      <td>440</td>\n",
              "      <td>Tidak ada</td>\n",
              "    </tr>\n",
              "    <tr>\n",
              "      <th>3</th>\n",
              "      <td>4</td>\n",
              "      <td>Perempuan</td>\n",
              "      <td>133.8</td>\n",
              "      <td>31.5</td>\n",
              "      <td>21.25</td>\n",
              "      <td>Gizi lebih</td>\n",
              "      <td>1230</td>\n",
              "      <td>28</td>\n",
              "      <td>35</td>\n",
              "      <td>247</td>\n",
              "      <td>22</td>\n",
              "      <td>5.214026</td>\n",
              "      <td>966</td>\n",
              "      <td>Tidak ada</td>\n",
              "    </tr>\n",
              "    <tr>\n",
              "      <th>4</th>\n",
              "      <td>7</td>\n",
              "      <td>Laki-laki</td>\n",
              "      <td>125.3</td>\n",
              "      <td>19.9</td>\n",
              "      <td>15.20</td>\n",
              "      <td>Gizi baik</td>\n",
              "      <td>1918</td>\n",
              "      <td>39</td>\n",
              "      <td>46</td>\n",
              "      <td>123</td>\n",
              "      <td>46</td>\n",
              "      <td>12.325367</td>\n",
              "      <td>932</td>\n",
              "      <td>Tidak ada</td>\n",
              "    </tr>\n",
              "  </tbody>\n",
              "</table>\n",
              "</div>\n",
              "    <div class=\"colab-df-buttons\">\n",
              "\n",
              "  <div class=\"colab-df-container\">\n",
              "    <button class=\"colab-df-convert\" onclick=\"convertToInteractive('df-08e0af45-b617-4ecc-97d3-a605c5ece299')\"\n",
              "            title=\"Convert this dataframe to an interactive table.\"\n",
              "            style=\"display:none;\">\n",
              "\n",
              "  <svg xmlns=\"http://www.w3.org/2000/svg\" height=\"24px\" viewBox=\"0 -960 960 960\">\n",
              "    <path d=\"M120-120v-720h720v720H120Zm60-500h600v-160H180v160Zm220 220h160v-160H400v160Zm0 220h160v-160H400v160ZM180-400h160v-160H180v160Zm440 0h160v-160H620v160ZM180-180h160v-160H180v160Zm440 0h160v-160H620v160Z\"/>\n",
              "  </svg>\n",
              "    </button>\n",
              "\n",
              "  <style>\n",
              "    .colab-df-container {\n",
              "      display:flex;\n",
              "      gap: 12px;\n",
              "    }\n",
              "\n",
              "    .colab-df-convert {\n",
              "      background-color: #E8F0FE;\n",
              "      border: none;\n",
              "      border-radius: 50%;\n",
              "      cursor: pointer;\n",
              "      display: none;\n",
              "      fill: #1967D2;\n",
              "      height: 32px;\n",
              "      padding: 0 0 0 0;\n",
              "      width: 32px;\n",
              "    }\n",
              "\n",
              "    .colab-df-convert:hover {\n",
              "      background-color: #E2EBFA;\n",
              "      box-shadow: 0px 1px 2px rgba(60, 64, 67, 0.3), 0px 1px 3px 1px rgba(60, 64, 67, 0.15);\n",
              "      fill: #174EA6;\n",
              "    }\n",
              "\n",
              "    .colab-df-buttons div {\n",
              "      margin-bottom: 4px;\n",
              "    }\n",
              "\n",
              "    [theme=dark] .colab-df-convert {\n",
              "      background-color: #3B4455;\n",
              "      fill: #D2E3FC;\n",
              "    }\n",
              "\n",
              "    [theme=dark] .colab-df-convert:hover {\n",
              "      background-color: #434B5C;\n",
              "      box-shadow: 0px 1px 3px 1px rgba(0, 0, 0, 0.15);\n",
              "      filter: drop-shadow(0px 1px 2px rgba(0, 0, 0, 0.3));\n",
              "      fill: #FFFFFF;\n",
              "    }\n",
              "  </style>\n",
              "\n",
              "    <script>\n",
              "      const buttonEl =\n",
              "        document.querySelector('#df-08e0af45-b617-4ecc-97d3-a605c5ece299 button.colab-df-convert');\n",
              "      buttonEl.style.display =\n",
              "        google.colab.kernel.accessAllowed ? 'block' : 'none';\n",
              "\n",
              "      async function convertToInteractive(key) {\n",
              "        const element = document.querySelector('#df-08e0af45-b617-4ecc-97d3-a605c5ece299');\n",
              "        const dataTable =\n",
              "          await google.colab.kernel.invokeFunction('convertToInteractive',\n",
              "                                                    [key], {});\n",
              "        if (!dataTable) return;\n",
              "\n",
              "        const docLinkHtml = 'Like what you see? Visit the ' +\n",
              "          '<a target=\"_blank\" href=https://colab.research.google.com/notebooks/data_table.ipynb>data table notebook</a>'\n",
              "          + ' to learn more about interactive tables.';\n",
              "        element.innerHTML = '';\n",
              "        dataTable['output_type'] = 'display_data';\n",
              "        await google.colab.output.renderOutput(dataTable, element);\n",
              "        const docLink = document.createElement('div');\n",
              "        docLink.innerHTML = docLinkHtml;\n",
              "        element.appendChild(docLink);\n",
              "      }\n",
              "    </script>\n",
              "  </div>\n",
              "\n",
              "\n",
              "<div id=\"df-dd20eb86-09fd-498b-945d-0fc402b942ec\">\n",
              "  <button class=\"colab-df-quickchart\" onclick=\"quickchart('df-dd20eb86-09fd-498b-945d-0fc402b942ec')\"\n",
              "            title=\"Suggest charts\"\n",
              "            style=\"display:none;\">\n",
              "\n",
              "<svg xmlns=\"http://www.w3.org/2000/svg\" height=\"24px\"viewBox=\"0 0 24 24\"\n",
              "     width=\"24px\">\n",
              "    <g>\n",
              "        <path d=\"M19 3H5c-1.1 0-2 .9-2 2v14c0 1.1.9 2 2 2h14c1.1 0 2-.9 2-2V5c0-1.1-.9-2-2-2zM9 17H7v-7h2v7zm4 0h-2V7h2v10zm4 0h-2v-4h2v4z\"/>\n",
              "    </g>\n",
              "</svg>\n",
              "  </button>\n",
              "\n",
              "<style>\n",
              "  .colab-df-quickchart {\n",
              "      --bg-color: #E8F0FE;\n",
              "      --fill-color: #1967D2;\n",
              "      --hover-bg-color: #E2EBFA;\n",
              "      --hover-fill-color: #174EA6;\n",
              "      --disabled-fill-color: #AAA;\n",
              "      --disabled-bg-color: #DDD;\n",
              "  }\n",
              "\n",
              "  [theme=dark] .colab-df-quickchart {\n",
              "      --bg-color: #3B4455;\n",
              "      --fill-color: #D2E3FC;\n",
              "      --hover-bg-color: #434B5C;\n",
              "      --hover-fill-color: #FFFFFF;\n",
              "      --disabled-bg-color: #3B4455;\n",
              "      --disabled-fill-color: #666;\n",
              "  }\n",
              "\n",
              "  .colab-df-quickchart {\n",
              "    background-color: var(--bg-color);\n",
              "    border: none;\n",
              "    border-radius: 50%;\n",
              "    cursor: pointer;\n",
              "    display: none;\n",
              "    fill: var(--fill-color);\n",
              "    height: 32px;\n",
              "    padding: 0;\n",
              "    width: 32px;\n",
              "  }\n",
              "\n",
              "  .colab-df-quickchart:hover {\n",
              "    background-color: var(--hover-bg-color);\n",
              "    box-shadow: 0 1px 2px rgba(60, 64, 67, 0.3), 0 1px 3px 1px rgba(60, 64, 67, 0.15);\n",
              "    fill: var(--button-hover-fill-color);\n",
              "  }\n",
              "\n",
              "  .colab-df-quickchart-complete:disabled,\n",
              "  .colab-df-quickchart-complete:disabled:hover {\n",
              "    background-color: var(--disabled-bg-color);\n",
              "    fill: var(--disabled-fill-color);\n",
              "    box-shadow: none;\n",
              "  }\n",
              "\n",
              "  .colab-df-spinner {\n",
              "    border: 2px solid var(--fill-color);\n",
              "    border-color: transparent;\n",
              "    border-bottom-color: var(--fill-color);\n",
              "    animation:\n",
              "      spin 1s steps(1) infinite;\n",
              "  }\n",
              "\n",
              "  @keyframes spin {\n",
              "    0% {\n",
              "      border-color: transparent;\n",
              "      border-bottom-color: var(--fill-color);\n",
              "      border-left-color: var(--fill-color);\n",
              "    }\n",
              "    20% {\n",
              "      border-color: transparent;\n",
              "      border-left-color: var(--fill-color);\n",
              "      border-top-color: var(--fill-color);\n",
              "    }\n",
              "    30% {\n",
              "      border-color: transparent;\n",
              "      border-left-color: var(--fill-color);\n",
              "      border-top-color: var(--fill-color);\n",
              "      border-right-color: var(--fill-color);\n",
              "    }\n",
              "    40% {\n",
              "      border-color: transparent;\n",
              "      border-right-color: var(--fill-color);\n",
              "      border-top-color: var(--fill-color);\n",
              "    }\n",
              "    60% {\n",
              "      border-color: transparent;\n",
              "      border-right-color: var(--fill-color);\n",
              "    }\n",
              "    80% {\n",
              "      border-color: transparent;\n",
              "      border-right-color: var(--fill-color);\n",
              "      border-bottom-color: var(--fill-color);\n",
              "    }\n",
              "    90% {\n",
              "      border-color: transparent;\n",
              "      border-bottom-color: var(--fill-color);\n",
              "    }\n",
              "  }\n",
              "</style>\n",
              "\n",
              "  <script>\n",
              "    async function quickchart(key) {\n",
              "      const quickchartButtonEl =\n",
              "        document.querySelector('#' + key + ' button');\n",
              "      quickchartButtonEl.disabled = true;  // To prevent multiple clicks.\n",
              "      quickchartButtonEl.classList.add('colab-df-spinner');\n",
              "      try {\n",
              "        const charts = await google.colab.kernel.invokeFunction(\n",
              "            'suggestCharts', [key], {});\n",
              "      } catch (error) {\n",
              "        console.error('Error during call to suggestCharts:', error);\n",
              "      }\n",
              "      quickchartButtonEl.classList.remove('colab-df-spinner');\n",
              "      quickchartButtonEl.classList.add('colab-df-quickchart-complete');\n",
              "    }\n",
              "    (() => {\n",
              "      let quickchartButtonEl =\n",
              "        document.querySelector('#df-dd20eb86-09fd-498b-945d-0fc402b942ec button');\n",
              "      quickchartButtonEl.style.display =\n",
              "        google.colab.kernel.accessAllowed ? 'block' : 'none';\n",
              "    })();\n",
              "  </script>\n",
              "</div>\n",
              "\n",
              "    </div>\n",
              "  </div>\n"
            ],
            "application/vnd.google.colaboratory.intrinsic+json": {
              "type": "dataframe",
              "variable_name": "growth_data",
              "summary": "{\n  \"name\": \"growth_data\",\n  \"rows\": 200,\n  \"fields\": [\n    {\n      \"column\": \"Usia (Tahun)\",\n      \"properties\": {\n        \"dtype\": \"number\",\n        \"std\": 2,\n        \"min\": 4,\n        \"max\": 12,\n        \"num_unique_values\": 9,\n        \"samples\": [\n          12,\n          6,\n          8\n        ],\n        \"semantic_type\": \"\",\n        \"description\": \"\"\n      }\n    },\n    {\n      \"column\": \"Jenis Kelamin\",\n      \"properties\": {\n        \"dtype\": \"category\",\n        \"num_unique_values\": 2,\n        \"samples\": [\n          \"Laki-laki\",\n          \"Perempuan\"\n        ],\n        \"semantic_type\": \"\",\n        \"description\": \"\"\n      }\n    },\n    {\n      \"column\": \"Tinggi Badan (cm)\",\n      \"properties\": {\n        \"dtype\": \"number\",\n        \"std\": 17.420159803742894,\n        \"min\": 90.0,\n        \"max\": 149.2,\n        \"num_unique_values\": 173,\n        \"samples\": [\n          115.1,\n          102.4\n        ],\n        \"semantic_type\": \"\",\n        \"description\": \"\"\n      }\n    },\n    {\n      \"column\": \"Berat Badan (kg)\",\n      \"properties\": {\n        \"dtype\": \"number\",\n        \"std\": 10.427554324767618,\n        \"min\": 15.0,\n        \"max\": 49.8,\n        \"num_unique_values\": 156,\n        \"samples\": [\n          35.8,\n          29.2\n        ],\n        \"semantic_type\": \"\",\n        \"description\": \"\"\n      }\n    },\n    {\n      \"column\": \"BMI\",\n      \"properties\": {\n        \"dtype\": \"number\",\n        \"std\": 3.5252748722082825,\n        \"min\": 13.02,\n        \"max\": 24.94,\n        \"num_unique_values\": 185,\n        \"samples\": [\n          24.07,\n          24.77\n        ],\n        \"semantic_type\": \"\",\n        \"description\": \"\"\n      }\n    },\n    {\n      \"column\": \"Status Gizi\",\n      \"properties\": {\n        \"dtype\": \"category\",\n        \"num_unique_values\": 3,\n        \"samples\": [\n          \"Gizi baik\",\n          \"Gizi kurang\"\n        ],\n        \"semantic_type\": \"\",\n        \"description\": \"\"\n      }\n    },\n    {\n      \"column\": \"Kalori\",\n      \"properties\": {\n        \"dtype\": \"number\",\n        \"std\": 429,\n        \"min\": 1011,\n        \"max\": 2494,\n        \"num_unique_values\": 193,\n        \"samples\": [\n          1703,\n          2453\n        ],\n        \"semantic_type\": \"\",\n        \"description\": \"\"\n      }\n    },\n    {\n      \"column\": \"Protein\",\n      \"properties\": {\n        \"dtype\": \"number\",\n        \"std\": 18,\n        \"min\": 20,\n        \"max\": 80,\n        \"num_unique_values\": 58,\n        \"samples\": [\n          39,\n          25\n        ],\n        \"semantic_type\": \"\",\n        \"description\": \"\"\n      }\n    },\n    {\n      \"column\": \"Lemak\",\n      \"properties\": {\n        \"dtype\": \"number\",\n        \"std\": 13,\n        \"min\": 10,\n        \"max\": 59,\n        \"num_unique_values\": 50,\n        \"samples\": [\n          14,\n          59\n        ],\n        \"semantic_type\": \"\",\n        \"description\": \"\"\n      }\n    },\n    {\n      \"column\": \"Karbohidrat\",\n      \"properties\": {\n        \"dtype\": \"number\",\n        \"std\": 56,\n        \"min\": 100,\n        \"max\": 300,\n        \"num_unique_values\": 121,\n        \"samples\": [\n          146,\n          165\n        ],\n        \"semantic_type\": \"\",\n        \"description\": \"\"\n      }\n    },\n    {\n      \"column\": \"Vitamin C\",\n      \"properties\": {\n        \"dtype\": \"number\",\n        \"std\": 25,\n        \"min\": 10,\n        \"max\": 100,\n        \"num_unique_values\": 82,\n        \"samples\": [\n          70,\n          92\n        ],\n        \"semantic_type\": \"\",\n        \"description\": \"\"\n      }\n    },\n    {\n      \"column\": \"Zat Besi\",\n      \"properties\": {\n        \"dtype\": \"number\",\n        \"std\": 2.8622045559221774,\n        \"min\": 5.031011198828896,\n        \"max\": 14.970828247789534,\n        \"num_unique_values\": 200,\n        \"samples\": [\n          9.919990982004125,\n          9.607307140143751\n        ],\n        \"semantic_type\": \"\",\n        \"description\": \"\"\n      }\n    },\n    {\n      \"column\": \"Kalsium\",\n      \"properties\": {\n        \"dtype\": \"number\",\n        \"std\": 200,\n        \"min\": 301,\n        \"max\": 1000,\n        \"num_unique_values\": 178,\n        \"samples\": [\n          821,\n          423\n        ],\n        \"semantic_type\": \"\",\n        \"description\": \"\"\n      }\n    },\n    {\n      \"column\": \"Riwayat Penyakit\",\n      \"properties\": {\n        \"dtype\": \"category\",\n        \"num_unique_values\": 5,\n        \"samples\": [\n          \"Malnutrisi\",\n          \"Stunting\"\n        ],\n        \"semantic_type\": \"\",\n        \"description\": \"\"\n      }\n    }\n  ]\n}"
            }
          },
          "metadata": {},
          "execution_count": 34
        }
      ]
    },
    {
      "cell_type": "markdown",
      "source": [],
      "metadata": {
        "id": "mXGyAv6FE769"
      }
    },
    {
      "cell_type": "code",
      "source": [
        "food_data.head()"
      ],
      "metadata": {
        "colab": {
          "base_uri": "https://localhost:8080/",
          "height": 377
        },
        "id": "i8cth1e1FEcE",
        "outputId": "55057b6a-0cc1-4824-b15e-c93d2ad2e971"
      },
      "execution_count": 35,
      "outputs": [
        {
          "output_type": "execute_result",
          "data": {
            "text/plain": [
              "                     food  caloric_value    fat  saturated_fats  \\\n",
              "0  margarine with yoghurt             88    9.8             1.9   \n",
              "1   sunflower seed butter             99    8.8             0.7   \n",
              "2            hazelnut oil            120   13.6             1.0   \n",
              "3       menhaden fish oil           1966  218.0            66.3   \n",
              "4      cod liver fish oil            123   13.6             3.1   \n",
              "\n",
              "   monounsaturated_fats  polyunsaturated_fats  carbohydrates  sugars  protein  \\\n",
              "0                   5.6                   2.0          0.073     0.0    0.058   \n",
              "1                   6.2                   1.6          3.700     1.7    2.800   \n",
              "2                  10.6                   1.4          0.000     0.0    0.000   \n",
              "3                  58.2                  74.5          0.000     0.0    0.000   \n",
              "4                   6.4                   3.1          0.000     0.0    0.000   \n",
              "\n",
              "   dietary_fiber  ...  calcium  copper   iron  magnesium  manganese  \\\n",
              "0            0.0  ...      2.8   0.001  0.027        0.3        0.0   \n",
              "1            0.9  ...     10.2   0.300  0.700       49.8        0.3   \n",
              "2            0.0  ...      0.0   0.000  0.000        0.0        0.0   \n",
              "3            0.0  ...      0.0   0.000  0.000        0.0        0.0   \n",
              "4            0.0  ...      0.0   0.000  0.000        0.0        0.0   \n",
              "\n",
              "   phosphorus  potassium  selenium   zinc  nutrition_density  \n",
              "0         2.2        3.5     0.000  0.008             12.971  \n",
              "1       106.6       92.2     0.075  0.800             27.500  \n",
              "2         0.0        0.0     0.000  0.000             13.600  \n",
              "3         0.0        0.0     0.000  0.000            218.000  \n",
              "4         0.0        0.0     0.000  0.000             17.700  \n",
              "\n",
              "[5 rows x 35 columns]"
            ],
            "text/html": [
              "\n",
              "  <div id=\"df-8e3dae8d-13d4-4537-b81f-69b611867e77\" class=\"colab-df-container\">\n",
              "    <div>\n",
              "<style scoped>\n",
              "    .dataframe tbody tr th:only-of-type {\n",
              "        vertical-align: middle;\n",
              "    }\n",
              "\n",
              "    .dataframe tbody tr th {\n",
              "        vertical-align: top;\n",
              "    }\n",
              "\n",
              "    .dataframe thead th {\n",
              "        text-align: right;\n",
              "    }\n",
              "</style>\n",
              "<table border=\"1\" class=\"dataframe\">\n",
              "  <thead>\n",
              "    <tr style=\"text-align: right;\">\n",
              "      <th></th>\n",
              "      <th>food</th>\n",
              "      <th>caloric_value</th>\n",
              "      <th>fat</th>\n",
              "      <th>saturated_fats</th>\n",
              "      <th>monounsaturated_fats</th>\n",
              "      <th>polyunsaturated_fats</th>\n",
              "      <th>carbohydrates</th>\n",
              "      <th>sugars</th>\n",
              "      <th>protein</th>\n",
              "      <th>dietary_fiber</th>\n",
              "      <th>...</th>\n",
              "      <th>calcium</th>\n",
              "      <th>copper</th>\n",
              "      <th>iron</th>\n",
              "      <th>magnesium</th>\n",
              "      <th>manganese</th>\n",
              "      <th>phosphorus</th>\n",
              "      <th>potassium</th>\n",
              "      <th>selenium</th>\n",
              "      <th>zinc</th>\n",
              "      <th>nutrition_density</th>\n",
              "    </tr>\n",
              "  </thead>\n",
              "  <tbody>\n",
              "    <tr>\n",
              "      <th>0</th>\n",
              "      <td>margarine with yoghurt</td>\n",
              "      <td>88</td>\n",
              "      <td>9.8</td>\n",
              "      <td>1.9</td>\n",
              "      <td>5.6</td>\n",
              "      <td>2.0</td>\n",
              "      <td>0.073</td>\n",
              "      <td>0.0</td>\n",
              "      <td>0.058</td>\n",
              "      <td>0.0</td>\n",
              "      <td>...</td>\n",
              "      <td>2.8</td>\n",
              "      <td>0.001</td>\n",
              "      <td>0.027</td>\n",
              "      <td>0.3</td>\n",
              "      <td>0.0</td>\n",
              "      <td>2.2</td>\n",
              "      <td>3.5</td>\n",
              "      <td>0.000</td>\n",
              "      <td>0.008</td>\n",
              "      <td>12.971</td>\n",
              "    </tr>\n",
              "    <tr>\n",
              "      <th>1</th>\n",
              "      <td>sunflower seed butter</td>\n",
              "      <td>99</td>\n",
              "      <td>8.8</td>\n",
              "      <td>0.7</td>\n",
              "      <td>6.2</td>\n",
              "      <td>1.6</td>\n",
              "      <td>3.700</td>\n",
              "      <td>1.7</td>\n",
              "      <td>2.800</td>\n",
              "      <td>0.9</td>\n",
              "      <td>...</td>\n",
              "      <td>10.2</td>\n",
              "      <td>0.300</td>\n",
              "      <td>0.700</td>\n",
              "      <td>49.8</td>\n",
              "      <td>0.3</td>\n",
              "      <td>106.6</td>\n",
              "      <td>92.2</td>\n",
              "      <td>0.075</td>\n",
              "      <td>0.800</td>\n",
              "      <td>27.500</td>\n",
              "    </tr>\n",
              "    <tr>\n",
              "      <th>2</th>\n",
              "      <td>hazelnut oil</td>\n",
              "      <td>120</td>\n",
              "      <td>13.6</td>\n",
              "      <td>1.0</td>\n",
              "      <td>10.6</td>\n",
              "      <td>1.4</td>\n",
              "      <td>0.000</td>\n",
              "      <td>0.0</td>\n",
              "      <td>0.000</td>\n",
              "      <td>0.0</td>\n",
              "      <td>...</td>\n",
              "      <td>0.0</td>\n",
              "      <td>0.000</td>\n",
              "      <td>0.000</td>\n",
              "      <td>0.0</td>\n",
              "      <td>0.0</td>\n",
              "      <td>0.0</td>\n",
              "      <td>0.0</td>\n",
              "      <td>0.000</td>\n",
              "      <td>0.000</td>\n",
              "      <td>13.600</td>\n",
              "    </tr>\n",
              "    <tr>\n",
              "      <th>3</th>\n",
              "      <td>menhaden fish oil</td>\n",
              "      <td>1966</td>\n",
              "      <td>218.0</td>\n",
              "      <td>66.3</td>\n",
              "      <td>58.2</td>\n",
              "      <td>74.5</td>\n",
              "      <td>0.000</td>\n",
              "      <td>0.0</td>\n",
              "      <td>0.000</td>\n",
              "      <td>0.0</td>\n",
              "      <td>...</td>\n",
              "      <td>0.0</td>\n",
              "      <td>0.000</td>\n",
              "      <td>0.000</td>\n",
              "      <td>0.0</td>\n",
              "      <td>0.0</td>\n",
              "      <td>0.0</td>\n",
              "      <td>0.0</td>\n",
              "      <td>0.000</td>\n",
              "      <td>0.000</td>\n",
              "      <td>218.000</td>\n",
              "    </tr>\n",
              "    <tr>\n",
              "      <th>4</th>\n",
              "      <td>cod liver fish oil</td>\n",
              "      <td>123</td>\n",
              "      <td>13.6</td>\n",
              "      <td>3.1</td>\n",
              "      <td>6.4</td>\n",
              "      <td>3.1</td>\n",
              "      <td>0.000</td>\n",
              "      <td>0.0</td>\n",
              "      <td>0.000</td>\n",
              "      <td>0.0</td>\n",
              "      <td>...</td>\n",
              "      <td>0.0</td>\n",
              "      <td>0.000</td>\n",
              "      <td>0.000</td>\n",
              "      <td>0.0</td>\n",
              "      <td>0.0</td>\n",
              "      <td>0.0</td>\n",
              "      <td>0.0</td>\n",
              "      <td>0.000</td>\n",
              "      <td>0.000</td>\n",
              "      <td>17.700</td>\n",
              "    </tr>\n",
              "  </tbody>\n",
              "</table>\n",
              "<p>5 rows × 35 columns</p>\n",
              "</div>\n",
              "    <div class=\"colab-df-buttons\">\n",
              "\n",
              "  <div class=\"colab-df-container\">\n",
              "    <button class=\"colab-df-convert\" onclick=\"convertToInteractive('df-8e3dae8d-13d4-4537-b81f-69b611867e77')\"\n",
              "            title=\"Convert this dataframe to an interactive table.\"\n",
              "            style=\"display:none;\">\n",
              "\n",
              "  <svg xmlns=\"http://www.w3.org/2000/svg\" height=\"24px\" viewBox=\"0 -960 960 960\">\n",
              "    <path d=\"M120-120v-720h720v720H120Zm60-500h600v-160H180v160Zm220 220h160v-160H400v160Zm0 220h160v-160H400v160ZM180-400h160v-160H180v160Zm440 0h160v-160H620v160ZM180-180h160v-160H180v160Zm440 0h160v-160H620v160Z\"/>\n",
              "  </svg>\n",
              "    </button>\n",
              "\n",
              "  <style>\n",
              "    .colab-df-container {\n",
              "      display:flex;\n",
              "      gap: 12px;\n",
              "    }\n",
              "\n",
              "    .colab-df-convert {\n",
              "      background-color: #E8F0FE;\n",
              "      border: none;\n",
              "      border-radius: 50%;\n",
              "      cursor: pointer;\n",
              "      display: none;\n",
              "      fill: #1967D2;\n",
              "      height: 32px;\n",
              "      padding: 0 0 0 0;\n",
              "      width: 32px;\n",
              "    }\n",
              "\n",
              "    .colab-df-convert:hover {\n",
              "      background-color: #E2EBFA;\n",
              "      box-shadow: 0px 1px 2px rgba(60, 64, 67, 0.3), 0px 1px 3px 1px rgba(60, 64, 67, 0.15);\n",
              "      fill: #174EA6;\n",
              "    }\n",
              "\n",
              "    .colab-df-buttons div {\n",
              "      margin-bottom: 4px;\n",
              "    }\n",
              "\n",
              "    [theme=dark] .colab-df-convert {\n",
              "      background-color: #3B4455;\n",
              "      fill: #D2E3FC;\n",
              "    }\n",
              "\n",
              "    [theme=dark] .colab-df-convert:hover {\n",
              "      background-color: #434B5C;\n",
              "      box-shadow: 0px 1px 3px 1px rgba(0, 0, 0, 0.15);\n",
              "      filter: drop-shadow(0px 1px 2px rgba(0, 0, 0, 0.3));\n",
              "      fill: #FFFFFF;\n",
              "    }\n",
              "  </style>\n",
              "\n",
              "    <script>\n",
              "      const buttonEl =\n",
              "        document.querySelector('#df-8e3dae8d-13d4-4537-b81f-69b611867e77 button.colab-df-convert');\n",
              "      buttonEl.style.display =\n",
              "        google.colab.kernel.accessAllowed ? 'block' : 'none';\n",
              "\n",
              "      async function convertToInteractive(key) {\n",
              "        const element = document.querySelector('#df-8e3dae8d-13d4-4537-b81f-69b611867e77');\n",
              "        const dataTable =\n",
              "          await google.colab.kernel.invokeFunction('convertToInteractive',\n",
              "                                                    [key], {});\n",
              "        if (!dataTable) return;\n",
              "\n",
              "        const docLinkHtml = 'Like what you see? Visit the ' +\n",
              "          '<a target=\"_blank\" href=https://colab.research.google.com/notebooks/data_table.ipynb>data table notebook</a>'\n",
              "          + ' to learn more about interactive tables.';\n",
              "        element.innerHTML = '';\n",
              "        dataTable['output_type'] = 'display_data';\n",
              "        await google.colab.output.renderOutput(dataTable, element);\n",
              "        const docLink = document.createElement('div');\n",
              "        docLink.innerHTML = docLinkHtml;\n",
              "        element.appendChild(docLink);\n",
              "      }\n",
              "    </script>\n",
              "  </div>\n",
              "\n",
              "\n",
              "<div id=\"df-8cb468b7-c68e-4691-b2cf-e388c18b07e2\">\n",
              "  <button class=\"colab-df-quickchart\" onclick=\"quickchart('df-8cb468b7-c68e-4691-b2cf-e388c18b07e2')\"\n",
              "            title=\"Suggest charts\"\n",
              "            style=\"display:none;\">\n",
              "\n",
              "<svg xmlns=\"http://www.w3.org/2000/svg\" height=\"24px\"viewBox=\"0 0 24 24\"\n",
              "     width=\"24px\">\n",
              "    <g>\n",
              "        <path d=\"M19 3H5c-1.1 0-2 .9-2 2v14c0 1.1.9 2 2 2h14c1.1 0 2-.9 2-2V5c0-1.1-.9-2-2-2zM9 17H7v-7h2v7zm4 0h-2V7h2v10zm4 0h-2v-4h2v4z\"/>\n",
              "    </g>\n",
              "</svg>\n",
              "  </button>\n",
              "\n",
              "<style>\n",
              "  .colab-df-quickchart {\n",
              "      --bg-color: #E8F0FE;\n",
              "      --fill-color: #1967D2;\n",
              "      --hover-bg-color: #E2EBFA;\n",
              "      --hover-fill-color: #174EA6;\n",
              "      --disabled-fill-color: #AAA;\n",
              "      --disabled-bg-color: #DDD;\n",
              "  }\n",
              "\n",
              "  [theme=dark] .colab-df-quickchart {\n",
              "      --bg-color: #3B4455;\n",
              "      --fill-color: #D2E3FC;\n",
              "      --hover-bg-color: #434B5C;\n",
              "      --hover-fill-color: #FFFFFF;\n",
              "      --disabled-bg-color: #3B4455;\n",
              "      --disabled-fill-color: #666;\n",
              "  }\n",
              "\n",
              "  .colab-df-quickchart {\n",
              "    background-color: var(--bg-color);\n",
              "    border: none;\n",
              "    border-radius: 50%;\n",
              "    cursor: pointer;\n",
              "    display: none;\n",
              "    fill: var(--fill-color);\n",
              "    height: 32px;\n",
              "    padding: 0;\n",
              "    width: 32px;\n",
              "  }\n",
              "\n",
              "  .colab-df-quickchart:hover {\n",
              "    background-color: var(--hover-bg-color);\n",
              "    box-shadow: 0 1px 2px rgba(60, 64, 67, 0.3), 0 1px 3px 1px rgba(60, 64, 67, 0.15);\n",
              "    fill: var(--button-hover-fill-color);\n",
              "  }\n",
              "\n",
              "  .colab-df-quickchart-complete:disabled,\n",
              "  .colab-df-quickchart-complete:disabled:hover {\n",
              "    background-color: var(--disabled-bg-color);\n",
              "    fill: var(--disabled-fill-color);\n",
              "    box-shadow: none;\n",
              "  }\n",
              "\n",
              "  .colab-df-spinner {\n",
              "    border: 2px solid var(--fill-color);\n",
              "    border-color: transparent;\n",
              "    border-bottom-color: var(--fill-color);\n",
              "    animation:\n",
              "      spin 1s steps(1) infinite;\n",
              "  }\n",
              "\n",
              "  @keyframes spin {\n",
              "    0% {\n",
              "      border-color: transparent;\n",
              "      border-bottom-color: var(--fill-color);\n",
              "      border-left-color: var(--fill-color);\n",
              "    }\n",
              "    20% {\n",
              "      border-color: transparent;\n",
              "      border-left-color: var(--fill-color);\n",
              "      border-top-color: var(--fill-color);\n",
              "    }\n",
              "    30% {\n",
              "      border-color: transparent;\n",
              "      border-left-color: var(--fill-color);\n",
              "      border-top-color: var(--fill-color);\n",
              "      border-right-color: var(--fill-color);\n",
              "    }\n",
              "    40% {\n",
              "      border-color: transparent;\n",
              "      border-right-color: var(--fill-color);\n",
              "      border-top-color: var(--fill-color);\n",
              "    }\n",
              "    60% {\n",
              "      border-color: transparent;\n",
              "      border-right-color: var(--fill-color);\n",
              "    }\n",
              "    80% {\n",
              "      border-color: transparent;\n",
              "      border-right-color: var(--fill-color);\n",
              "      border-bottom-color: var(--fill-color);\n",
              "    }\n",
              "    90% {\n",
              "      border-color: transparent;\n",
              "      border-bottom-color: var(--fill-color);\n",
              "    }\n",
              "  }\n",
              "</style>\n",
              "\n",
              "  <script>\n",
              "    async function quickchart(key) {\n",
              "      const quickchartButtonEl =\n",
              "        document.querySelector('#' + key + ' button');\n",
              "      quickchartButtonEl.disabled = true;  // To prevent multiple clicks.\n",
              "      quickchartButtonEl.classList.add('colab-df-spinner');\n",
              "      try {\n",
              "        const charts = await google.colab.kernel.invokeFunction(\n",
              "            'suggestCharts', [key], {});\n",
              "      } catch (error) {\n",
              "        console.error('Error during call to suggestCharts:', error);\n",
              "      }\n",
              "      quickchartButtonEl.classList.remove('colab-df-spinner');\n",
              "      quickchartButtonEl.classList.add('colab-df-quickchart-complete');\n",
              "    }\n",
              "    (() => {\n",
              "      let quickchartButtonEl =\n",
              "        document.querySelector('#df-8cb468b7-c68e-4691-b2cf-e388c18b07e2 button');\n",
              "      quickchartButtonEl.style.display =\n",
              "        google.colab.kernel.accessAllowed ? 'block' : 'none';\n",
              "    })();\n",
              "  </script>\n",
              "</div>\n",
              "\n",
              "    </div>\n",
              "  </div>\n"
            ],
            "application/vnd.google.colaboratory.intrinsic+json": {
              "type": "dataframe",
              "variable_name": "food_data"
            }
          },
          "metadata": {},
          "execution_count": 35
        }
      ]
    },
    {
      "cell_type": "markdown",
      "source": [],
      "metadata": {
        "id": "IxQiTAu8FEuM"
      }
    },
    {
      "cell_type": "code",
      "source": [
        "# get data info\n",
        "growth_data.info()"
      ],
      "metadata": {
        "colab": {
          "base_uri": "https://localhost:8080/"
        },
        "id": "k3Xb0GpxJTcW",
        "outputId": "b4dd1f75-dc86-4315-b300-0bdb2c2e6a03"
      },
      "execution_count": 46,
      "outputs": [
        {
          "output_type": "stream",
          "name": "stdout",
          "text": [
            "<class 'pandas.core.frame.DataFrame'>\n",
            "RangeIndex: 200 entries, 0 to 199\n",
            "Data columns (total 15 columns):\n",
            " #   Column               Non-Null Count  Dtype  \n",
            "---  ------               --------------  -----  \n",
            " 0   Usia (Tahun)         200 non-null    int64  \n",
            " 1   Jenis Kelamin        200 non-null    object \n",
            " 2   Tinggi Badan (cm)    200 non-null    float64\n",
            " 3   Berat Badan (kg)     200 non-null    float64\n",
            " 4   BMI                  200 non-null    float64\n",
            " 5   Status Gizi          200 non-null    object \n",
            " 6   Kalori               200 non-null    int64  \n",
            " 7   Protein              200 non-null    int64  \n",
            " 8   Lemak                200 non-null    int64  \n",
            " 9   Karbohidrat          200 non-null    int64  \n",
            " 10  Vitamin C            200 non-null    int64  \n",
            " 11  Zat Besi             200 non-null    float64\n",
            " 12  Kalsium              200 non-null    int64  \n",
            " 13  Riwayat Penyakit     200 non-null    object \n",
            " 14  Status Gizi Encoded  200 non-null    int64  \n",
            "dtypes: float64(4), int64(8), object(3)\n",
            "memory usage: 23.6+ KB\n"
          ]
        }
      ]
    },
    {
      "cell_type": "markdown",
      "source": [],
      "metadata": {
        "id": "wxYSFohfJTxV"
      }
    },
    {
      "cell_type": "code",
      "source": [
        "# get data info\n",
        "food_data.info()"
      ],
      "metadata": {
        "colab": {
          "base_uri": "https://localhost:8080/"
        },
        "id": "dnNnBXLCJXlF",
        "outputId": "7be64aed-e276-47e5-cb65-19c867a58c3f"
      },
      "execution_count": 47,
      "outputs": [
        {
          "output_type": "stream",
          "name": "stdout",
          "text": [
            "<class 'pandas.core.frame.DataFrame'>\n",
            "RangeIndex: 722 entries, 0 to 721\n",
            "Data columns (total 35 columns):\n",
            " #   Column                Non-Null Count  Dtype  \n",
            "---  ------                --------------  -----  \n",
            " 0   food                  722 non-null    object \n",
            " 1   caloric_value         722 non-null    int64  \n",
            " 2   fat                   722 non-null    float64\n",
            " 3   saturated_fats        722 non-null    float64\n",
            " 4   monounsaturated_fats  722 non-null    float64\n",
            " 5   polyunsaturated_fats  722 non-null    float64\n",
            " 6   carbohydrates         722 non-null    float64\n",
            " 7   sugars                722 non-null    float64\n",
            " 8   protein               722 non-null    float64\n",
            " 9   dietary_fiber         722 non-null    float64\n",
            " 10  cholesterol           722 non-null    float64\n",
            " 11  sodium                722 non-null    float64\n",
            " 12  water                 722 non-null    float64\n",
            " 13  vitamin_a             722 non-null    float64\n",
            " 14  vitamin_b1            722 non-null    float64\n",
            " 15  vitamin_b11           722 non-null    float64\n",
            " 16  vitamin_b12           722 non-null    float64\n",
            " 17  vitamin_b2            722 non-null    float64\n",
            " 18  vitamin_b3            722 non-null    float64\n",
            " 19  vitamin_b5            722 non-null    float64\n",
            " 20  vitamin_b6            722 non-null    float64\n",
            " 21  vitamin_c             722 non-null    float64\n",
            " 22  vitamin_d             722 non-null    float64\n",
            " 23  vitamin_e             722 non-null    float64\n",
            " 24  vitamin_k             722 non-null    float64\n",
            " 25  calcium               722 non-null    float64\n",
            " 26  copper                722 non-null    float64\n",
            " 27  iron                  722 non-null    float64\n",
            " 28  magnesium             722 non-null    float64\n",
            " 29  manganese             722 non-null    float64\n",
            " 30  phosphorus            722 non-null    float64\n",
            " 31  potassium             722 non-null    float64\n",
            " 32  selenium              722 non-null    float64\n",
            " 33  zinc                  722 non-null    float64\n",
            " 34  nutrition_density     722 non-null    float64\n",
            "dtypes: float64(33), int64(1), object(1)\n",
            "memory usage: 197.5+ KB\n"
          ]
        }
      ]
    },
    {
      "cell_type": "markdown",
      "source": [],
      "metadata": {
        "id": "VnDiQP3wJX1F"
      }
    },
    {
      "cell_type": "code",
      "source": [
        "# Hitung BMI\n",
        "growth_data['BMI'] = growth_data['Berat Badan (kg)'] / ((growth_data['Tinggi Badan (cm)'] / 100) ** 2)\n",
        "\n",
        "# Klasifikasi status gizi\n",
        "def classify_nutrition(bmi):\n",
        "    if bmi < 18.5:\n",
        "        return \"Gizi Kurang\"\n",
        "    elif 18.5 <= bmi < 25:\n",
        "        return \"Gizi Baik\"\n",
        "    else:\n",
        "        return \"Gizi Lebih\"\n",
        "\n",
        "growth_data['Status Gizi'] = growth_data['BMI'].apply(classify_nutrition)\n",
        "\n",
        "# Encode status gizi\n",
        "label_encoder = LabelEncoder()\n",
        "growth_data['Status Gizi Encoded'] = label_encoder.fit_transform(growth_data['Status Gizi'])\n",
        "\n",
        "# Normalisasi dan split data\n",
        "scaler_X = MinMaxScaler()\n",
        "X = growth_data[['Usia (Tahun)', 'Tinggi Badan (cm)', 'Berat Badan (kg)']].values\n",
        "y = growth_data['Status Gizi Encoded'].values\n",
        "\n",
        "X_scaled = scaler_X.fit_transform(X)\n",
        "X_train, X_val, y_train, y_val = train_test_split(X_scaled, y, test_size=0.2, random_state=42)\n",
        "\n",
        "# Reshape data untuk LSTM\n",
        "X_train_lstm = X_train.reshape((X_train.shape[0], 1, X_train.shape[1]))\n",
        "X_val_lstm = X_val.reshape((X_val.shape[0], 1, X_val.shape[1]))\n"
      ],
      "metadata": {
        "id": "cirwdDuUkMh9"
      },
      "execution_count": 36,
      "outputs": []
    },
    {
      "cell_type": "markdown",
      "source": [],
      "metadata": {
        "id": "ktDQxmr8k4Od"
      }
    },
    {
      "cell_type": "code",
      "source": [
        "# Membuat model prediksi status gizi\n",
        "model_nutrition = Sequential([\n",
        "    LSTM(50, activation='relu', input_shape=(1, X_train.shape[1])),\n",
        "    Dense(16, activation='relu'),\n",
        "    Dense(len(label_encoder.classes_), activation='softmax')\n",
        "])\n",
        "\n",
        "# Kompilasi model\n",
        "model_nutrition.compile(optimizer='adam', loss='sparse_categorical_crossentropy', metrics=['accuracy'])\n",
        "\n",
        "# Train model\n",
        "history_nutrition = model_nutrition.fit(\n",
        "    X_train_lstm, y_train,\n",
        "    validation_data=(X_val_lstm, y_val),\n",
        "    epochs=100, batch_size=16, verbose=1\n",
        ")\n",
        "\n",
        "# Evaluasi model\n",
        "nutrition_predictions = model_nutrition.predict(X_val_lstm)\n",
        "nutrition_predictions_classes = np.argmax(nutrition_predictions, axis=1)\n",
        "accuracy = accuracy_score(y_val, nutrition_predictions_classes)\n",
        "print(f\"Accuracy: {accuracy:.4f}\")\n",
        "\n",
        "# Classification report\n",
        "report = classification_report(y_val, nutrition_predictions_classes, target_names=label_encoder.classes_)\n",
        "print(\"Classification Report:\")\n",
        "print(report)\n"
      ],
      "metadata": {
        "colab": {
          "base_uri": "https://localhost:8080/"
        },
        "id": "n0i5JaEMk4V8",
        "outputId": "9e0b2341-66ca-44fb-8f0e-74da9480ac02"
      },
      "execution_count": 37,
      "outputs": [
        {
          "output_type": "stream",
          "name": "stdout",
          "text": [
            "Epoch 1/100\n"
          ]
        },
        {
          "output_type": "stream",
          "name": "stderr",
          "text": [
            "/usr/local/lib/python3.10/dist-packages/keras/src/layers/rnn/rnn.py:204: UserWarning: Do not pass an `input_shape`/`input_dim` argument to a layer. When using Sequential models, prefer using an `Input(shape)` object as the first layer in the model instead.\n",
            "  super().__init__(**kwargs)\n"
          ]
        },
        {
          "output_type": "stream",
          "name": "stdout",
          "text": [
            "\u001b[1m10/10\u001b[0m \u001b[32m━━━━━━━━━━━━━━━━━━━━\u001b[0m\u001b[37m\u001b[0m \u001b[1m3s\u001b[0m 40ms/step - accuracy: 0.3011 - loss: 1.0986 - val_accuracy: 0.3750 - val_loss: 1.0920\n",
            "Epoch 2/100\n",
            "\u001b[1m10/10\u001b[0m \u001b[32m━━━━━━━━━━━━━━━━━━━━\u001b[0m\u001b[37m\u001b[0m \u001b[1m0s\u001b[0m 7ms/step - accuracy: 0.4516 - loss: 1.0854 - val_accuracy: 0.3750 - val_loss: 1.0843\n",
            "Epoch 3/100\n",
            "\u001b[1m10/10\u001b[0m \u001b[32m━━━━━━━━━━━━━━━━━━━━\u001b[0m\u001b[37m\u001b[0m \u001b[1m0s\u001b[0m 8ms/step - accuracy: 0.4386 - loss: 1.0743 - val_accuracy: 0.3750 - val_loss: 1.0759\n",
            "Epoch 4/100\n",
            "\u001b[1m10/10\u001b[0m \u001b[32m━━━━━━━━━━━━━━━━━━━━\u001b[0m\u001b[37m\u001b[0m \u001b[1m0s\u001b[0m 6ms/step - accuracy: 0.3889 - loss: 1.0723 - val_accuracy: 0.3750 - val_loss: 1.0672\n",
            "Epoch 5/100\n",
            "\u001b[1m10/10\u001b[0m \u001b[32m━━━━━━━━━━━━━━━━━━━━\u001b[0m\u001b[37m\u001b[0m \u001b[1m0s\u001b[0m 6ms/step - accuracy: 0.4267 - loss: 1.0526 - val_accuracy: 0.3750 - val_loss: 1.0569\n",
            "Epoch 6/100\n",
            "\u001b[1m10/10\u001b[0m \u001b[32m━━━━━━━━━━━━━━━━━━━━\u001b[0m\u001b[37m\u001b[0m \u001b[1m0s\u001b[0m 5ms/step - accuracy: 0.4257 - loss: 1.0349 - val_accuracy: 0.3750 - val_loss: 1.0460\n",
            "Epoch 7/100\n",
            "\u001b[1m10/10\u001b[0m \u001b[32m━━━━━━━━━━━━━━━━━━━━\u001b[0m\u001b[37m\u001b[0m \u001b[1m0s\u001b[0m 5ms/step - accuracy: 0.4516 - loss: 1.0237 - val_accuracy: 0.3750 - val_loss: 1.0338\n",
            "Epoch 8/100\n",
            "\u001b[1m10/10\u001b[0m \u001b[32m━━━━━━━━━━━━━━━━━━━━\u001b[0m\u001b[37m\u001b[0m \u001b[1m0s\u001b[0m 5ms/step - accuracy: 0.4069 - loss: 1.0119 - val_accuracy: 0.3750 - val_loss: 1.0199\n",
            "Epoch 9/100\n",
            "\u001b[1m10/10\u001b[0m \u001b[32m━━━━━━━━━━━━━━━━━━━━\u001b[0m\u001b[37m\u001b[0m \u001b[1m0s\u001b[0m 7ms/step - accuracy: 0.4554 - loss: 0.9871 - val_accuracy: 0.3750 - val_loss: 1.0043\n",
            "Epoch 10/100\n",
            "\u001b[1m10/10\u001b[0m \u001b[32m━━━━━━━━━━━━━━━━━━━━\u001b[0m\u001b[37m\u001b[0m \u001b[1m0s\u001b[0m 5ms/step - accuracy: 0.3888 - loss: 0.9815 - val_accuracy: 0.4750 - val_loss: 0.9852\n",
            "Epoch 11/100\n",
            "\u001b[1m10/10\u001b[0m \u001b[32m━━━━━━━━━━━━━━━━━━━━\u001b[0m\u001b[37m\u001b[0m \u001b[1m0s\u001b[0m 7ms/step - accuracy: 0.4553 - loss: 0.9790 - val_accuracy: 0.5750 - val_loss: 0.9658\n",
            "Epoch 12/100\n",
            "\u001b[1m10/10\u001b[0m \u001b[32m━━━━━━━━━━━━━━━━━━━━\u001b[0m\u001b[37m\u001b[0m \u001b[1m0s\u001b[0m 5ms/step - accuracy: 0.6273 - loss: 0.9269 - val_accuracy: 0.6250 - val_loss: 0.9444\n",
            "Epoch 13/100\n",
            "\u001b[1m10/10\u001b[0m \u001b[32m━━━━━━━━━━━━━━━━━━━━\u001b[0m\u001b[37m\u001b[0m \u001b[1m0s\u001b[0m 7ms/step - accuracy: 0.6259 - loss: 0.9009 - val_accuracy: 0.6250 - val_loss: 0.9212\n",
            "Epoch 14/100\n",
            "\u001b[1m10/10\u001b[0m \u001b[32m━━━━━━━━━━━━━━━━━━━━\u001b[0m\u001b[37m\u001b[0m \u001b[1m0s\u001b[0m 5ms/step - accuracy: 0.6695 - loss: 0.8938 - val_accuracy: 0.7000 - val_loss: 0.8931\n",
            "Epoch 15/100\n",
            "\u001b[1m10/10\u001b[0m \u001b[32m━━━━━━━━━━━━━━━━━━━━\u001b[0m\u001b[37m\u001b[0m \u001b[1m0s\u001b[0m 7ms/step - accuracy: 0.7453 - loss: 0.8172 - val_accuracy: 0.7000 - val_loss: 0.8612\n",
            "Epoch 16/100\n",
            "\u001b[1m10/10\u001b[0m \u001b[32m━━━━━━━━━━━━━━━━━━━━\u001b[0m\u001b[37m\u001b[0m \u001b[1m0s\u001b[0m 9ms/step - accuracy: 0.7638 - loss: 0.8175 - val_accuracy: 0.7250 - val_loss: 0.8216\n",
            "Epoch 17/100\n",
            "\u001b[1m10/10\u001b[0m \u001b[32m━━━━━━━━━━━━━━━━━━━━\u001b[0m\u001b[37m\u001b[0m \u001b[1m0s\u001b[0m 5ms/step - accuracy: 0.7845 - loss: 0.7591 - val_accuracy: 0.7750 - val_loss: 0.7811\n",
            "Epoch 18/100\n",
            "\u001b[1m10/10\u001b[0m \u001b[32m━━━━━━━━━━━━━━━━━━━━\u001b[0m\u001b[37m\u001b[0m \u001b[1m0s\u001b[0m 7ms/step - accuracy: 0.8136 - loss: 0.6999 - val_accuracy: 0.7750 - val_loss: 0.7376\n",
            "Epoch 19/100\n",
            "\u001b[1m10/10\u001b[0m \u001b[32m━━━━━━━━━━━━━━━━━━━━\u001b[0m\u001b[37m\u001b[0m \u001b[1m0s\u001b[0m 6ms/step - accuracy: 0.7876 - loss: 0.6758 - val_accuracy: 0.7750 - val_loss: 0.6928\n",
            "Epoch 20/100\n",
            "\u001b[1m10/10\u001b[0m \u001b[32m━━━━━━━━━━━━━━━━━━━━\u001b[0m\u001b[37m\u001b[0m \u001b[1m0s\u001b[0m 8ms/step - accuracy: 0.7912 - loss: 0.6244 - val_accuracy: 0.7750 - val_loss: 0.6499\n",
            "Epoch 21/100\n",
            "\u001b[1m10/10\u001b[0m \u001b[32m━━━━━━━━━━━━━━━━━━━━\u001b[0m\u001b[37m\u001b[0m \u001b[1m0s\u001b[0m 5ms/step - accuracy: 0.8243 - loss: 0.5725 - val_accuracy: 0.7750 - val_loss: 0.6087\n",
            "Epoch 22/100\n",
            "\u001b[1m10/10\u001b[0m \u001b[32m━━━━━━━━━━━━━━━━━━━━\u001b[0m\u001b[37m\u001b[0m \u001b[1m0s\u001b[0m 7ms/step - accuracy: 0.8193 - loss: 0.5523 - val_accuracy: 0.7750 - val_loss: 0.5719\n",
            "Epoch 23/100\n",
            "\u001b[1m10/10\u001b[0m \u001b[32m━━━━━━━━━━━━━━━━━━━━\u001b[0m\u001b[37m\u001b[0m \u001b[1m0s\u001b[0m 5ms/step - accuracy: 0.8215 - loss: 0.5217 - val_accuracy: 0.7750 - val_loss: 0.5291\n",
            "Epoch 24/100\n",
            "\u001b[1m10/10\u001b[0m \u001b[32m━━━━━━━━━━━━━━━━━━━━\u001b[0m\u001b[37m\u001b[0m \u001b[1m0s\u001b[0m 7ms/step - accuracy: 0.8231 - loss: 0.4479 - val_accuracy: 0.7750 - val_loss: 0.5015\n",
            "Epoch 25/100\n",
            "\u001b[1m10/10\u001b[0m \u001b[32m━━━━━━━━━━━━━━━━━━━━\u001b[0m\u001b[37m\u001b[0m \u001b[1m0s\u001b[0m 7ms/step - accuracy: 0.7808 - loss: 0.4968 - val_accuracy: 0.7750 - val_loss: 0.4673\n",
            "Epoch 26/100\n",
            "\u001b[1m10/10\u001b[0m \u001b[32m━━━━━━━━━━━━━━━━━━━━\u001b[0m\u001b[37m\u001b[0m \u001b[1m0s\u001b[0m 5ms/step - accuracy: 0.7731 - loss: 0.4761 - val_accuracy: 0.8000 - val_loss: 0.4430\n",
            "Epoch 27/100\n",
            "\u001b[1m10/10\u001b[0m \u001b[32m━━━━━━━━━━━━━━━━━━━━\u001b[0m\u001b[37m\u001b[0m \u001b[1m0s\u001b[0m 6ms/step - accuracy: 0.8297 - loss: 0.4141 - val_accuracy: 0.8000 - val_loss: 0.4157\n",
            "Epoch 28/100\n",
            "\u001b[1m10/10\u001b[0m \u001b[32m━━━━━━━━━━━━━━━━━━━━\u001b[0m\u001b[37m\u001b[0m \u001b[1m0s\u001b[0m 7ms/step - accuracy: 0.8402 - loss: 0.3623 - val_accuracy: 0.8000 - val_loss: 0.3946\n",
            "Epoch 29/100\n",
            "\u001b[1m10/10\u001b[0m \u001b[32m━━━━━━━━━━━━━━━━━━━━\u001b[0m\u001b[37m\u001b[0m \u001b[1m0s\u001b[0m 7ms/step - accuracy: 0.8356 - loss: 0.3796 - val_accuracy: 0.8250 - val_loss: 0.3831\n",
            "Epoch 30/100\n",
            "\u001b[1m10/10\u001b[0m \u001b[32m━━━━━━━━━━━━━━━━━━━━\u001b[0m\u001b[37m\u001b[0m \u001b[1m0s\u001b[0m 6ms/step - accuracy: 0.8672 - loss: 0.3444 - val_accuracy: 0.9250 - val_loss: 0.3497\n",
            "Epoch 31/100\n",
            "\u001b[1m10/10\u001b[0m \u001b[32m━━━━━━━━━━━━━━━━━━━━\u001b[0m\u001b[37m\u001b[0m \u001b[1m0s\u001b[0m 5ms/step - accuracy: 0.8965 - loss: 0.3085 - val_accuracy: 0.8750 - val_loss: 0.3392\n",
            "Epoch 32/100\n",
            "\u001b[1m10/10\u001b[0m \u001b[32m━━━━━━━━━━━━━━━━━━━━\u001b[0m\u001b[37m\u001b[0m \u001b[1m0s\u001b[0m 6ms/step - accuracy: 0.8937 - loss: 0.3341 - val_accuracy: 0.9000 - val_loss: 0.3231\n",
            "Epoch 33/100\n",
            "\u001b[1m10/10\u001b[0m \u001b[32m━━━━━━━━━━━━━━━━━━━━\u001b[0m\u001b[37m\u001b[0m \u001b[1m0s\u001b[0m 6ms/step - accuracy: 0.9283 - loss: 0.3058 - val_accuracy: 0.9250 - val_loss: 0.3051\n",
            "Epoch 34/100\n",
            "\u001b[1m10/10\u001b[0m \u001b[32m━━━━━━━━━━━━━━━━━━━━\u001b[0m\u001b[37m\u001b[0m \u001b[1m0s\u001b[0m 7ms/step - accuracy: 0.9508 - loss: 0.2774 - val_accuracy: 0.9500 - val_loss: 0.2954\n",
            "Epoch 35/100\n",
            "\u001b[1m10/10\u001b[0m \u001b[32m━━━━━━━━━━━━━━━━━━━━\u001b[0m\u001b[37m\u001b[0m \u001b[1m0s\u001b[0m 5ms/step - accuracy: 0.9013 - loss: 0.2956 - val_accuracy: 0.9500 - val_loss: 0.2823\n",
            "Epoch 36/100\n",
            "\u001b[1m10/10\u001b[0m \u001b[32m━━━━━━━━━━━━━━━━━━━━\u001b[0m\u001b[37m\u001b[0m \u001b[1m0s\u001b[0m 6ms/step - accuracy: 0.9183 - loss: 0.3051 - val_accuracy: 0.9750 - val_loss: 0.2662\n",
            "Epoch 37/100\n",
            "\u001b[1m10/10\u001b[0m \u001b[32m━━━━━━━━━━━━━━━━━━━━\u001b[0m\u001b[37m\u001b[0m \u001b[1m0s\u001b[0m 7ms/step - accuracy: 0.9242 - loss: 0.2920 - val_accuracy: 0.9500 - val_loss: 0.2649\n",
            "Epoch 38/100\n",
            "\u001b[1m10/10\u001b[0m \u001b[32m━━━━━━━━━━━━━━━━━━━━\u001b[0m\u001b[37m\u001b[0m \u001b[1m0s\u001b[0m 8ms/step - accuracy: 0.9363 - loss: 0.2786 - val_accuracy: 1.0000 - val_loss: 0.2432\n",
            "Epoch 39/100\n",
            "\u001b[1m10/10\u001b[0m \u001b[32m━━━━━━━━━━━━━━━━━━━━\u001b[0m\u001b[37m\u001b[0m \u001b[1m0s\u001b[0m 7ms/step - accuracy: 0.9278 - loss: 0.2837 - val_accuracy: 0.9750 - val_loss: 0.2439\n",
            "Epoch 40/100\n",
            "\u001b[1m10/10\u001b[0m \u001b[32m━━━━━━━━━━━━━━━━━━━━\u001b[0m\u001b[37m\u001b[0m \u001b[1m0s\u001b[0m 5ms/step - accuracy: 0.9414 - loss: 0.2497 - val_accuracy: 0.9750 - val_loss: 0.2302\n",
            "Epoch 41/100\n",
            "\u001b[1m10/10\u001b[0m \u001b[32m━━━━━━━━━━━━━━━━━━━━\u001b[0m\u001b[37m\u001b[0m \u001b[1m0s\u001b[0m 5ms/step - accuracy: 0.9505 - loss: 0.2491 - val_accuracy: 0.9750 - val_loss: 0.2224\n",
            "Epoch 42/100\n",
            "\u001b[1m10/10\u001b[0m \u001b[32m━━━━━━━━━━━━━━━━━━━━\u001b[0m\u001b[37m\u001b[0m \u001b[1m0s\u001b[0m 7ms/step - accuracy: 0.9558 - loss: 0.2374 - val_accuracy: 0.9750 - val_loss: 0.2131\n",
            "Epoch 43/100\n",
            "\u001b[1m10/10\u001b[0m \u001b[32m━━━━━━━━━━━━━━━━━━━━\u001b[0m\u001b[37m\u001b[0m \u001b[1m0s\u001b[0m 6ms/step - accuracy: 0.9528 - loss: 0.2271 - val_accuracy: 1.0000 - val_loss: 0.2034\n",
            "Epoch 44/100\n",
            "\u001b[1m10/10\u001b[0m \u001b[32m━━━━━━━━━━━━━━━━━━━━\u001b[0m\u001b[37m\u001b[0m \u001b[1m0s\u001b[0m 6ms/step - accuracy: 0.9388 - loss: 0.2241 - val_accuracy: 0.9750 - val_loss: 0.2011\n",
            "Epoch 45/100\n",
            "\u001b[1m10/10\u001b[0m \u001b[32m━━━━━━━━━━━━━━━━━━━━\u001b[0m\u001b[37m\u001b[0m \u001b[1m0s\u001b[0m 5ms/step - accuracy: 0.9887 - loss: 0.1549 - val_accuracy: 0.9750 - val_loss: 0.1938\n",
            "Epoch 46/100\n",
            "\u001b[1m10/10\u001b[0m \u001b[32m━━━━━━━━━━━━━━━━━━━━\u001b[0m\u001b[37m\u001b[0m \u001b[1m0s\u001b[0m 7ms/step - accuracy: 0.9547 - loss: 0.2142 - val_accuracy: 1.0000 - val_loss: 0.1842\n",
            "Epoch 47/100\n",
            "\u001b[1m10/10\u001b[0m \u001b[32m━━━━━━━━━━━━━━━━━━━━\u001b[0m\u001b[37m\u001b[0m \u001b[1m0s\u001b[0m 5ms/step - accuracy: 0.9428 - loss: 0.2417 - val_accuracy: 0.9750 - val_loss: 0.1855\n",
            "Epoch 48/100\n",
            "\u001b[1m10/10\u001b[0m \u001b[32m━━━━━━━━━━━━━━━━━━━━\u001b[0m\u001b[37m\u001b[0m \u001b[1m0s\u001b[0m 7ms/step - accuracy: 0.9591 - loss: 0.1702 - val_accuracy: 1.0000 - val_loss: 0.1740\n",
            "Epoch 49/100\n",
            "\u001b[1m10/10\u001b[0m \u001b[32m━━━━━━━━━━━━━━━━━━━━\u001b[0m\u001b[37m\u001b[0m \u001b[1m0s\u001b[0m 6ms/step - accuracy: 0.9720 - loss: 0.1744 - val_accuracy: 1.0000 - val_loss: 0.1667\n",
            "Epoch 50/100\n",
            "\u001b[1m10/10\u001b[0m \u001b[32m━━━━━━━━━━━━━━━━━━━━\u001b[0m\u001b[37m\u001b[0m \u001b[1m0s\u001b[0m 5ms/step - accuracy: 0.9665 - loss: 0.1714 - val_accuracy: 1.0000 - val_loss: 0.1609\n",
            "Epoch 51/100\n",
            "\u001b[1m10/10\u001b[0m \u001b[32m━━━━━━━━━━━━━━━━━━━━\u001b[0m\u001b[37m\u001b[0m \u001b[1m0s\u001b[0m 9ms/step - accuracy: 0.9552 - loss: 0.1891 - val_accuracy: 0.9750 - val_loss: 0.1702\n",
            "Epoch 52/100\n",
            "\u001b[1m10/10\u001b[0m \u001b[32m━━━━━━━━━━━━━━━━━━━━\u001b[0m\u001b[37m\u001b[0m \u001b[1m0s\u001b[0m 6ms/step - accuracy: 0.9397 - loss: 0.1869 - val_accuracy: 1.0000 - val_loss: 0.1522\n",
            "Epoch 53/100\n",
            "\u001b[1m10/10\u001b[0m \u001b[32m━━━━━━━━━━━━━━━━━━━━\u001b[0m\u001b[37m\u001b[0m \u001b[1m0s\u001b[0m 6ms/step - accuracy: 0.9685 - loss: 0.1758 - val_accuracy: 1.0000 - val_loss: 0.1570\n",
            "Epoch 54/100\n",
            "\u001b[1m10/10\u001b[0m \u001b[32m━━━━━━━━━━━━━━━━━━━━\u001b[0m\u001b[37m\u001b[0m \u001b[1m0s\u001b[0m 6ms/step - accuracy: 0.9728 - loss: 0.1518 - val_accuracy: 1.0000 - val_loss: 0.1471\n",
            "Epoch 55/100\n",
            "\u001b[1m10/10\u001b[0m \u001b[32m━━━━━━━━━━━━━━━━━━━━\u001b[0m\u001b[37m\u001b[0m \u001b[1m0s\u001b[0m 6ms/step - accuracy: 0.9655 - loss: 0.1582 - val_accuracy: 1.0000 - val_loss: 0.1405\n",
            "Epoch 56/100\n",
            "\u001b[1m10/10\u001b[0m \u001b[32m━━━━━━━━━━━━━━━━━━━━\u001b[0m\u001b[37m\u001b[0m \u001b[1m0s\u001b[0m 7ms/step - accuracy: 0.9808 - loss: 0.1550 - val_accuracy: 1.0000 - val_loss: 0.1455\n",
            "Epoch 57/100\n",
            "\u001b[1m10/10\u001b[0m \u001b[32m━━━━━━━━━━━━━━━━━━━━\u001b[0m\u001b[37m\u001b[0m \u001b[1m0s\u001b[0m 8ms/step - accuracy: 0.9771 - loss: 0.1625 - val_accuracy: 1.0000 - val_loss: 0.1376\n",
            "Epoch 58/100\n",
            "\u001b[1m10/10\u001b[0m \u001b[32m━━━━━━━━━━━━━━━━━━━━\u001b[0m\u001b[37m\u001b[0m \u001b[1m0s\u001b[0m 8ms/step - accuracy: 0.9935 - loss: 0.1612 - val_accuracy: 1.0000 - val_loss: 0.1310\n",
            "Epoch 59/100\n",
            "\u001b[1m10/10\u001b[0m \u001b[32m━━━━━━━━━━━━━━━━━━━━\u001b[0m\u001b[37m\u001b[0m \u001b[1m0s\u001b[0m 8ms/step - accuracy: 0.9657 - loss: 0.1943 - val_accuracy: 1.0000 - val_loss: 0.1321\n",
            "Epoch 60/100\n",
            "\u001b[1m10/10\u001b[0m \u001b[32m━━━━━━━━━━━━━━━━━━━━\u001b[0m\u001b[37m\u001b[0m \u001b[1m0s\u001b[0m 9ms/step - accuracy: 0.9758 - loss: 0.1469 - val_accuracy: 1.0000 - val_loss: 0.1306\n",
            "Epoch 61/100\n",
            "\u001b[1m10/10\u001b[0m \u001b[32m━━━━━━━━━━━━━━━━━━━━\u001b[0m\u001b[37m\u001b[0m \u001b[1m0s\u001b[0m 6ms/step - accuracy: 0.9814 - loss: 0.1343 - val_accuracy: 1.0000 - val_loss: 0.1217\n",
            "Epoch 62/100\n",
            "\u001b[1m10/10\u001b[0m \u001b[32m━━━━━━━━━━━━━━━━━━━━\u001b[0m\u001b[37m\u001b[0m \u001b[1m0s\u001b[0m 6ms/step - accuracy: 0.9760 - loss: 0.1506 - val_accuracy: 1.0000 - val_loss: 0.1233\n",
            "Epoch 63/100\n",
            "\u001b[1m10/10\u001b[0m \u001b[32m━━━━━━━━━━━━━━━━━━━━\u001b[0m\u001b[37m\u001b[0m \u001b[1m0s\u001b[0m 9ms/step - accuracy: 0.9827 - loss: 0.1381 - val_accuracy: 1.0000 - val_loss: 0.1240\n",
            "Epoch 64/100\n",
            "\u001b[1m10/10\u001b[0m \u001b[32m━━━━━━━━━━━━━━━━━━━━\u001b[0m\u001b[37m\u001b[0m \u001b[1m0s\u001b[0m 8ms/step - accuracy: 0.9580 - loss: 0.1454 - val_accuracy: 1.0000 - val_loss: 0.1128\n",
            "Epoch 65/100\n",
            "\u001b[1m10/10\u001b[0m \u001b[32m━━━━━━━━━━━━━━━━━━━━\u001b[0m\u001b[37m\u001b[0m \u001b[1m0s\u001b[0m 12ms/step - accuracy: 0.9813 - loss: 0.1362 - val_accuracy: 1.0000 - val_loss: 0.1137\n",
            "Epoch 66/100\n",
            "\u001b[1m10/10\u001b[0m \u001b[32m━━━━━━━━━━━━━━━━━━━━\u001b[0m\u001b[37m\u001b[0m \u001b[1m0s\u001b[0m 8ms/step - accuracy: 0.9680 - loss: 0.1225 - val_accuracy: 1.0000 - val_loss: 0.1113\n",
            "Epoch 67/100\n",
            "\u001b[1m10/10\u001b[0m \u001b[32m━━━━━━━━━━━━━━━━━━━━\u001b[0m\u001b[37m\u001b[0m \u001b[1m0s\u001b[0m 8ms/step - accuracy: 0.9752 - loss: 0.1288 - val_accuracy: 1.0000 - val_loss: 0.1117\n",
            "Epoch 68/100\n",
            "\u001b[1m10/10\u001b[0m \u001b[32m━━━━━━━━━━━━━━━━━━━━\u001b[0m\u001b[37m\u001b[0m \u001b[1m0s\u001b[0m 10ms/step - accuracy: 0.9539 - loss: 0.1361 - val_accuracy: 1.0000 - val_loss: 0.1060\n",
            "Epoch 69/100\n",
            "\u001b[1m10/10\u001b[0m \u001b[32m━━━━━━━━━━━━━━━━━━━━\u001b[0m\u001b[37m\u001b[0m \u001b[1m0s\u001b[0m 6ms/step - accuracy: 0.9666 - loss: 0.1420 - val_accuracy: 1.0000 - val_loss: 0.1081\n",
            "Epoch 70/100\n",
            "\u001b[1m10/10\u001b[0m \u001b[32m━━━━━━━━━━━━━━━━━━━━\u001b[0m\u001b[37m\u001b[0m \u001b[1m0s\u001b[0m 8ms/step - accuracy: 0.9646 - loss: 0.1385 - val_accuracy: 1.0000 - val_loss: 0.1013\n",
            "Epoch 71/100\n",
            "\u001b[1m10/10\u001b[0m \u001b[32m━━━━━━━━━━━━━━━━━━━━\u001b[0m\u001b[37m\u001b[0m \u001b[1m0s\u001b[0m 6ms/step - accuracy: 0.9820 - loss: 0.1355 - val_accuracy: 1.0000 - val_loss: 0.1023\n",
            "Epoch 72/100\n",
            "\u001b[1m10/10\u001b[0m \u001b[32m━━━━━━━━━━━━━━━━━━━━\u001b[0m\u001b[37m\u001b[0m \u001b[1m0s\u001b[0m 6ms/step - accuracy: 0.9727 - loss: 0.1222 - val_accuracy: 1.0000 - val_loss: 0.0970\n",
            "Epoch 73/100\n",
            "\u001b[1m10/10\u001b[0m \u001b[32m━━━━━━━━━━━━━━━━━━━━\u001b[0m\u001b[37m\u001b[0m \u001b[1m0s\u001b[0m 9ms/step - accuracy: 0.9840 - loss: 0.1050 - val_accuracy: 1.0000 - val_loss: 0.1059\n",
            "Epoch 74/100\n",
            "\u001b[1m10/10\u001b[0m \u001b[32m━━━━━━━━━━━━━━━━━━━━\u001b[0m\u001b[37m\u001b[0m \u001b[1m0s\u001b[0m 8ms/step - accuracy: 0.9730 - loss: 0.1218 - val_accuracy: 1.0000 - val_loss: 0.0922\n",
            "Epoch 75/100\n",
            "\u001b[1m10/10\u001b[0m \u001b[32m━━━━━━━━━━━━━━━━━━━━\u001b[0m\u001b[37m\u001b[0m \u001b[1m0s\u001b[0m 6ms/step - accuracy: 0.9796 - loss: 0.1205 - val_accuracy: 1.0000 - val_loss: 0.0930\n",
            "Epoch 76/100\n",
            "\u001b[1m10/10\u001b[0m \u001b[32m━━━━━━━━━━━━━━━━━━━━\u001b[0m\u001b[37m\u001b[0m \u001b[1m0s\u001b[0m 9ms/step - accuracy: 0.9806 - loss: 0.1184 - val_accuracy: 1.0000 - val_loss: 0.0977\n",
            "Epoch 77/100\n",
            "\u001b[1m10/10\u001b[0m \u001b[32m━━━━━━━━━━━━━━━━━━━━\u001b[0m\u001b[37m\u001b[0m \u001b[1m0s\u001b[0m 5ms/step - accuracy: 0.9691 - loss: 0.1008 - val_accuracy: 1.0000 - val_loss: 0.0906\n",
            "Epoch 78/100\n",
            "\u001b[1m10/10\u001b[0m \u001b[32m━━━━━━━━━━━━━━━━━━━━\u001b[0m\u001b[37m\u001b[0m \u001b[1m0s\u001b[0m 7ms/step - accuracy: 0.9834 - loss: 0.1129 - val_accuracy: 1.0000 - val_loss: 0.0874\n",
            "Epoch 79/100\n",
            "\u001b[1m10/10\u001b[0m \u001b[32m━━━━━━━━━━━━━━━━━━━━\u001b[0m\u001b[37m\u001b[0m \u001b[1m0s\u001b[0m 10ms/step - accuracy: 0.9836 - loss: 0.1214 - val_accuracy: 1.0000 - val_loss: 0.0869\n",
            "Epoch 80/100\n",
            "\u001b[1m10/10\u001b[0m \u001b[32m━━━━━━━━━━━━━━━━━━━━\u001b[0m\u001b[37m\u001b[0m \u001b[1m0s\u001b[0m 9ms/step - accuracy: 0.9747 - loss: 0.1018 - val_accuracy: 1.0000 - val_loss: 0.0923\n",
            "Epoch 81/100\n",
            "\u001b[1m10/10\u001b[0m \u001b[32m━━━━━━━━━━━━━━━━━━━━\u001b[0m\u001b[37m\u001b[0m \u001b[1m0s\u001b[0m 9ms/step - accuracy: 0.9915 - loss: 0.0884 - val_accuracy: 1.0000 - val_loss: 0.0817\n",
            "Epoch 82/100\n",
            "\u001b[1m10/10\u001b[0m \u001b[32m━━━━━━━━━━━━━━━━━━━━\u001b[0m\u001b[37m\u001b[0m \u001b[1m0s\u001b[0m 10ms/step - accuracy: 0.9676 - loss: 0.1248 - val_accuracy: 1.0000 - val_loss: 0.0859\n",
            "Epoch 83/100\n",
            "\u001b[1m10/10\u001b[0m \u001b[32m━━━━━━━━━━━━━━━━━━━━\u001b[0m\u001b[37m\u001b[0m \u001b[1m0s\u001b[0m 13ms/step - accuracy: 0.9751 - loss: 0.1093 - val_accuracy: 1.0000 - val_loss: 0.0837\n",
            "Epoch 84/100\n",
            "\u001b[1m10/10\u001b[0m \u001b[32m━━━━━━━━━━━━━━━━━━━━\u001b[0m\u001b[37m\u001b[0m \u001b[1m0s\u001b[0m 14ms/step - accuracy: 0.9749 - loss: 0.0938 - val_accuracy: 1.0000 - val_loss: 0.0797\n",
            "Epoch 85/100\n",
            "\u001b[1m10/10\u001b[0m \u001b[32m━━━━━━━━━━━━━━━━━━━━\u001b[0m\u001b[37m\u001b[0m \u001b[1m0s\u001b[0m 11ms/step - accuracy: 0.9889 - loss: 0.0842 - val_accuracy: 1.0000 - val_loss: 0.0809\n",
            "Epoch 86/100\n",
            "\u001b[1m10/10\u001b[0m \u001b[32m━━━━━━━━━━━━━━━━━━━━\u001b[0m\u001b[37m\u001b[0m \u001b[1m0s\u001b[0m 11ms/step - accuracy: 0.9654 - loss: 0.1058 - val_accuracy: 1.0000 - val_loss: 0.0774\n",
            "Epoch 87/100\n",
            "\u001b[1m10/10\u001b[0m \u001b[32m━━━━━━━━━━━━━━━━━━━━\u001b[0m\u001b[37m\u001b[0m \u001b[1m0s\u001b[0m 8ms/step - accuracy: 0.9842 - loss: 0.1104 - val_accuracy: 1.0000 - val_loss: 0.0741\n",
            "Epoch 88/100\n",
            "\u001b[1m10/10\u001b[0m \u001b[32m━━━━━━━━━━━━━━━━━━━━\u001b[0m\u001b[37m\u001b[0m \u001b[1m0s\u001b[0m 10ms/step - accuracy: 0.9842 - loss: 0.0895 - val_accuracy: 1.0000 - val_loss: 0.0769\n",
            "Epoch 89/100\n",
            "\u001b[1m10/10\u001b[0m \u001b[32m━━━━━━━━━━━━━━━━━━━━\u001b[0m\u001b[37m\u001b[0m \u001b[1m0s\u001b[0m 10ms/step - accuracy: 0.9749 - loss: 0.0976 - val_accuracy: 1.0000 - val_loss: 0.0743\n",
            "Epoch 90/100\n",
            "\u001b[1m10/10\u001b[0m \u001b[32m━━━━━━━━━━━━━━━━━━━━\u001b[0m\u001b[37m\u001b[0m \u001b[1m0s\u001b[0m 11ms/step - accuracy: 0.9817 - loss: 0.1075 - val_accuracy: 1.0000 - val_loss: 0.0721\n",
            "Epoch 91/100\n",
            "\u001b[1m10/10\u001b[0m \u001b[32m━━━━━━━━━━━━━━━━━━━━\u001b[0m\u001b[37m\u001b[0m \u001b[1m0s\u001b[0m 11ms/step - accuracy: 0.9762 - loss: 0.0973 - val_accuracy: 1.0000 - val_loss: 0.0747\n",
            "Epoch 92/100\n",
            "\u001b[1m10/10\u001b[0m \u001b[32m━━━━━━━━━━━━━━━━━━━━\u001b[0m\u001b[37m\u001b[0m \u001b[1m0s\u001b[0m 10ms/step - accuracy: 0.9756 - loss: 0.0895 - val_accuracy: 1.0000 - val_loss: 0.0699\n",
            "Epoch 93/100\n",
            "\u001b[1m10/10\u001b[0m \u001b[32m━━━━━━━━━━━━━━━━━━━━\u001b[0m\u001b[37m\u001b[0m \u001b[1m0s\u001b[0m 10ms/step - accuracy: 0.9737 - loss: 0.1002 - val_accuracy: 1.0000 - val_loss: 0.0716\n",
            "Epoch 94/100\n",
            "\u001b[1m10/10\u001b[0m \u001b[32m━━━━━━━━━━━━━━━━━━━━\u001b[0m\u001b[37m\u001b[0m \u001b[1m0s\u001b[0m 13ms/step - accuracy: 0.9822 - loss: 0.0817 - val_accuracy: 1.0000 - val_loss: 0.0678\n",
            "Epoch 95/100\n",
            "\u001b[1m10/10\u001b[0m \u001b[32m━━━━━━━━━━━━━━━━━━━━\u001b[0m\u001b[37m\u001b[0m \u001b[1m0s\u001b[0m 11ms/step - accuracy: 0.9835 - loss: 0.0953 - val_accuracy: 1.0000 - val_loss: 0.0685\n",
            "Epoch 96/100\n",
            "\u001b[1m10/10\u001b[0m \u001b[32m━━━━━━━━━━━━━━━━━━━━\u001b[0m\u001b[37m\u001b[0m \u001b[1m0s\u001b[0m 11ms/step - accuracy: 0.9774 - loss: 0.1008 - val_accuracy: 1.0000 - val_loss: 0.0676\n",
            "Epoch 97/100\n",
            "\u001b[1m10/10\u001b[0m \u001b[32m━━━━━━━━━━━━━━━━━━━━\u001b[0m\u001b[37m\u001b[0m \u001b[1m0s\u001b[0m 11ms/step - accuracy: 0.9801 - loss: 0.0942 - val_accuracy: 1.0000 - val_loss: 0.0676\n",
            "Epoch 98/100\n",
            "\u001b[1m10/10\u001b[0m \u001b[32m━━━━━━━━━━━━━━━━━━━━\u001b[0m\u001b[37m\u001b[0m \u001b[1m0s\u001b[0m 11ms/step - accuracy: 0.9932 - loss: 0.0786 - val_accuracy: 1.0000 - val_loss: 0.0634\n",
            "Epoch 99/100\n",
            "\u001b[1m10/10\u001b[0m \u001b[32m━━━━━━━━━━━━━━━━━━━━\u001b[0m\u001b[37m\u001b[0m \u001b[1m0s\u001b[0m 12ms/step - accuracy: 0.9756 - loss: 0.0973 - val_accuracy: 1.0000 - val_loss: 0.0673\n",
            "Epoch 100/100\n",
            "\u001b[1m10/10\u001b[0m \u001b[32m━━━━━━━━━━━━━━━━━━━━\u001b[0m\u001b[37m\u001b[0m \u001b[1m0s\u001b[0m 8ms/step - accuracy: 0.9763 - loss: 0.0848 - val_accuracy: 1.0000 - val_loss: 0.0635\n",
            "\u001b[1m2/2\u001b[0m \u001b[32m━━━━━━━━━━━━━━━━━━━━\u001b[0m\u001b[37m\u001b[0m \u001b[1m0s\u001b[0m 162ms/step\n",
            "Accuracy: 1.0000\n",
            "Classification Report:\n",
            "              precision    recall  f1-score   support\n",
            "\n",
            "   Gizi Baik       1.00      1.00      1.00         9\n",
            " Gizi Kurang       1.00      1.00      1.00        15\n",
            "  Gizi Lebih       1.00      1.00      1.00        16\n",
            "\n",
            "    accuracy                           1.00        40\n",
            "   macro avg       1.00      1.00      1.00        40\n",
            "weighted avg       1.00      1.00      1.00        40\n",
            "\n"
          ]
        }
      ]
    },
    {
      "cell_type": "markdown",
      "source": [],
      "metadata": {
        "id": "5ESfbG-Hk_u8"
      }
    },
    {
      "cell_type": "code",
      "source": [
        "# Evaluasi model prediksi status gizi anak\n",
        "nutrition_predictions = model_nutrition.predict(X_val_lstm)\n",
        "nutrition_predictions_classes = np.argmax(nutrition_predictions, axis=1)\n",
        "\n",
        "# Hitung akurasi\n",
        "accuracy_nutrition = accuracy_score(y_val, nutrition_predictions_classes)\n",
        "print(f\"Akurasi Model Prediksi Status Gizi Anak: {accuracy_nutrition * 100:.2f}%\")\n",
        "\n",
        "# Classification report untuk metrik lebih detail\n",
        "report_nutrition = classification_report(y_val, nutrition_predictions_classes, target_names=label_encoder.classes_)\n",
        "print(\"Classification Report untuk Model Prediksi Status Gizi Anak:\")\n",
        "print(report_nutrition)\n"
      ],
      "metadata": {
        "colab": {
          "base_uri": "https://localhost:8080/"
        },
        "id": "OW5pCWUhKVoG",
        "outputId": "b4abf988-6e03-4225-c58f-d2fd30db8b51"
      },
      "execution_count": 48,
      "outputs": [
        {
          "output_type": "stream",
          "name": "stdout",
          "text": [
            "\u001b[1m2/2\u001b[0m \u001b[32m━━━━━━━━━━━━━━━━━━━━\u001b[0m\u001b[37m\u001b[0m \u001b[1m0s\u001b[0m 10ms/step\n",
            "Akurasi Model Prediksi Status Gizi Anak: 100.00%\n",
            "Classification Report untuk Model Prediksi Status Gizi Anak:\n",
            "              precision    recall  f1-score   support\n",
            "\n",
            "   Gizi Baik       1.00      1.00      1.00         9\n",
            " Gizi Kurang       1.00      1.00      1.00        15\n",
            "  Gizi Lebih       1.00      1.00      1.00        16\n",
            "\n",
            "    accuracy                           1.00        40\n",
            "   macro avg       1.00      1.00      1.00        40\n",
            "weighted avg       1.00      1.00      1.00        40\n",
            "\n"
          ]
        }
      ]
    },
    {
      "cell_type": "markdown",
      "source": [],
      "metadata": {
        "id": "dFpHNayUKWDN"
      }
    },
    {
      "cell_type": "code",
      "source": [
        "# Tampilkan summary model prediksi analisis gizi anak\n",
        "print(\"\\nSummary of Nutrition Analysis Model (LSTM):\")\n",
        "model_nutrition.summary()"
      ],
      "metadata": {
        "colab": {
          "base_uri": "https://localhost:8080/",
          "height": 290
        },
        "id": "qj1cHqxkRTCY",
        "outputId": "0dca32b5-d86c-43b2-8122-45b9cec21e7c"
      },
      "execution_count": 69,
      "outputs": [
        {
          "output_type": "stream",
          "name": "stdout",
          "text": [
            "\n",
            "Summary of Nutrition Analysis Model (LSTM):\n"
          ]
        },
        {
          "output_type": "display_data",
          "data": {
            "text/plain": [
              "\u001b[1mModel: \"sequential_4\"\u001b[0m\n"
            ],
            "text/html": [
              "<pre style=\"white-space:pre;overflow-x:auto;line-height:normal;font-family:Menlo,'DejaVu Sans Mono',consolas,'Courier New',monospace\"><span style=\"font-weight: bold\">Model: \"sequential_4\"</span>\n",
              "</pre>\n"
            ]
          },
          "metadata": {}
        },
        {
          "output_type": "display_data",
          "data": {
            "text/plain": [
              "┏━━━━━━━━━━━━━━━━━━━━━━━━━━━━━━━━━━━━━━┳━━━━━━━━━━━━━━━━━━━━━━━━━━━━━┳━━━━━━━━━━━━━━━━━┓\n",
              "┃\u001b[1m \u001b[0m\u001b[1mLayer (type)                        \u001b[0m\u001b[1m \u001b[0m┃\u001b[1m \u001b[0m\u001b[1mOutput Shape               \u001b[0m\u001b[1m \u001b[0m┃\u001b[1m \u001b[0m\u001b[1m        Param #\u001b[0m\u001b[1m \u001b[0m┃\n",
              "┡━━━━━━━━━━━━━━━━━━━━━━━━━━━━━━━━━━━━━━╇━━━━━━━━━━━━━━━━━━━━━━━━━━━━━╇━━━━━━━━━━━━━━━━━┩\n",
              "│ lstm_4 (\u001b[38;5;33mLSTM\u001b[0m)                        │ (\u001b[38;5;45mNone\u001b[0m, \u001b[38;5;34m50\u001b[0m)                  │          \u001b[38;5;34m10,800\u001b[0m │\n",
              "├──────────────────────────────────────┼─────────────────────────────┼─────────────────┤\n",
              "│ dense_12 (\u001b[38;5;33mDense\u001b[0m)                     │ (\u001b[38;5;45mNone\u001b[0m, \u001b[38;5;34m16\u001b[0m)                  │             \u001b[38;5;34m816\u001b[0m │\n",
              "├──────────────────────────────────────┼─────────────────────────────┼─────────────────┤\n",
              "│ dense_13 (\u001b[38;5;33mDense\u001b[0m)                     │ (\u001b[38;5;45mNone\u001b[0m, \u001b[38;5;34m3\u001b[0m)                   │              \u001b[38;5;34m51\u001b[0m │\n",
              "└──────────────────────────────────────┴─────────────────────────────┴─────────────────┘\n"
            ],
            "text/html": [
              "<pre style=\"white-space:pre;overflow-x:auto;line-height:normal;font-family:Menlo,'DejaVu Sans Mono',consolas,'Courier New',monospace\">┏━━━━━━━━━━━━━━━━━━━━━━━━━━━━━━━━━━━━━━┳━━━━━━━━━━━━━━━━━━━━━━━━━━━━━┳━━━━━━━━━━━━━━━━━┓\n",
              "┃<span style=\"font-weight: bold\"> Layer (type)                         </span>┃<span style=\"font-weight: bold\"> Output Shape                </span>┃<span style=\"font-weight: bold\">         Param # </span>┃\n",
              "┡━━━━━━━━━━━━━━━━━━━━━━━━━━━━━━━━━━━━━━╇━━━━━━━━━━━━━━━━━━━━━━━━━━━━━╇━━━━━━━━━━━━━━━━━┩\n",
              "│ lstm_4 (<span style=\"color: #0087ff; text-decoration-color: #0087ff\">LSTM</span>)                        │ (<span style=\"color: #00d7ff; text-decoration-color: #00d7ff\">None</span>, <span style=\"color: #00af00; text-decoration-color: #00af00\">50</span>)                  │          <span style=\"color: #00af00; text-decoration-color: #00af00\">10,800</span> │\n",
              "├──────────────────────────────────────┼─────────────────────────────┼─────────────────┤\n",
              "│ dense_12 (<span style=\"color: #0087ff; text-decoration-color: #0087ff\">Dense</span>)                     │ (<span style=\"color: #00d7ff; text-decoration-color: #00d7ff\">None</span>, <span style=\"color: #00af00; text-decoration-color: #00af00\">16</span>)                  │             <span style=\"color: #00af00; text-decoration-color: #00af00\">816</span> │\n",
              "├──────────────────────────────────────┼─────────────────────────────┼─────────────────┤\n",
              "│ dense_13 (<span style=\"color: #0087ff; text-decoration-color: #0087ff\">Dense</span>)                     │ (<span style=\"color: #00d7ff; text-decoration-color: #00d7ff\">None</span>, <span style=\"color: #00af00; text-decoration-color: #00af00\">3</span>)                   │              <span style=\"color: #00af00; text-decoration-color: #00af00\">51</span> │\n",
              "└──────────────────────────────────────┴─────────────────────────────┴─────────────────┘\n",
              "</pre>\n"
            ]
          },
          "metadata": {}
        },
        {
          "output_type": "display_data",
          "data": {
            "text/plain": [
              "\u001b[1m Total params: \u001b[0m\u001b[38;5;34m35,003\u001b[0m (136.73 KB)\n"
            ],
            "text/html": [
              "<pre style=\"white-space:pre;overflow-x:auto;line-height:normal;font-family:Menlo,'DejaVu Sans Mono',consolas,'Courier New',monospace\"><span style=\"font-weight: bold\"> Total params: </span><span style=\"color: #00af00; text-decoration-color: #00af00\">35,003</span> (136.73 KB)\n",
              "</pre>\n"
            ]
          },
          "metadata": {}
        },
        {
          "output_type": "display_data",
          "data": {
            "text/plain": [
              "\u001b[1m Trainable params: \u001b[0m\u001b[38;5;34m11,667\u001b[0m (45.57 KB)\n"
            ],
            "text/html": [
              "<pre style=\"white-space:pre;overflow-x:auto;line-height:normal;font-family:Menlo,'DejaVu Sans Mono',consolas,'Courier New',monospace\"><span style=\"font-weight: bold\"> Trainable params: </span><span style=\"color: #00af00; text-decoration-color: #00af00\">11,667</span> (45.57 KB)\n",
              "</pre>\n"
            ]
          },
          "metadata": {}
        },
        {
          "output_type": "display_data",
          "data": {
            "text/plain": [
              "\u001b[1m Non-trainable params: \u001b[0m\u001b[38;5;34m0\u001b[0m (0.00 B)\n"
            ],
            "text/html": [
              "<pre style=\"white-space:pre;overflow-x:auto;line-height:normal;font-family:Menlo,'DejaVu Sans Mono',consolas,'Courier New',monospace\"><span style=\"font-weight: bold\"> Non-trainable params: </span><span style=\"color: #00af00; text-decoration-color: #00af00\">0</span> (0.00 B)\n",
              "</pre>\n"
            ]
          },
          "metadata": {}
        },
        {
          "output_type": "display_data",
          "data": {
            "text/plain": [
              "\u001b[1m Optimizer params: \u001b[0m\u001b[38;5;34m23,336\u001b[0m (91.16 KB)\n"
            ],
            "text/html": [
              "<pre style=\"white-space:pre;overflow-x:auto;line-height:normal;font-family:Menlo,'DejaVu Sans Mono',consolas,'Courier New',monospace\"><span style=\"font-weight: bold\"> Optimizer params: </span><span style=\"color: #00af00; text-decoration-color: #00af00\">23,336</span> (91.16 KB)\n",
              "</pre>\n"
            ]
          },
          "metadata": {}
        }
      ]
    },
    {
      "cell_type": "markdown",
      "source": [],
      "metadata": {
        "id": "X9Cmt-oyRTR1"
      }
    },
    {
      "cell_type": "code",
      "source": [
        "plt.plot(history_nutrition.history['accuracy'], label='Training Accuracy')\n",
        "plt.plot(history_nutrition.history['val_accuracy'], label='Validation Accuracy')\n",
        "plt.xlabel('Epoch')\n",
        "plt.ylabel('Accuracy')\n",
        "plt.legend()\n",
        "plt.show()"
      ],
      "metadata": {
        "colab": {
          "base_uri": "https://localhost:8080/",
          "height": 449
        },
        "id": "XiWUEBRwSNEI",
        "outputId": "d37c79ad-e4e1-45aa-ce1c-074e68caa89e"
      },
      "execution_count": 71,
      "outputs": [
        {
          "output_type": "display_data",
          "data": {
            "text/plain": [
              "<Figure size 640x480 with 1 Axes>"
            ],
            "image/png": "[encoded data removed]"
          },
          "metadata": {}
        }
      ]
    },
    {
      "cell_type": "markdown",
      "source": [],
      "metadata": {
        "id": "sRlJ7NlkSNUD"
      }
    },
    {
      "cell_type": "code",
      "source": [
        "# **Prediksi dengan LSTM (Model Status Gizi Anak)**\n",
        "nutrition_predictions = model_nutrition.predict(X_val_lstm)\n",
        "\n",
        "# Konversi hasil prediksi menjadi label asli\n",
        "nutrition_predictions_classes = np.argmax(nutrition_predictions, axis=1)\n",
        "y_val_classes = y_val\n",
        "\n",
        "# Tampilkan hasil prediksi untuk beberapa contoh\n",
        "print(\"=== Contoh Prediksi Status Gizi ===\")\n",
        "# Sesuaikan jumlah iterasi dengan ukuran data validasi\n",
        "for i in range(len(X_val)):  # Atau ganti len(X_val) dengan angka lebih kecil sesuai kebutuhan\n",
        "    # Ambil data asli (usia, tinggi badan, berat badan) untuk true label\n",
        "    usia = X_val[i][0] * (scaler_X.data_max_[0] - scaler_X.data_min_[0]) + scaler_X.data_min_[0]\n",
        "    tinggi_badan = X_val[i][1] * (scaler_X.data_max_[1] - scaler_X.data_min_[1]) + scaler_X.data_min_[1]\n",
        "    berat_badan = X_val[i][2] * (scaler_X.data_max_[2] - scaler_X.data_min_[2]) + scaler_X.data_min_[2]\n",
        "\n",
        "    # Konversi prediksi ke format yang dapat dibaca\n",
        "    predicted_label = label_encoder.inverse_transform([nutrition_predictions_classes[i]])[0]\n",
        "\n",
        "    # Cetak hasil prediksi\n",
        "    print(f\"Contoh ke-{i+1}:\")\n",
        "    print(f\"True Label (Actual Data): Usia: {usia:.1f} tahun, Tinggi: {tinggi_badan:.1f} cm, Berat: {berat_badan:.1f} kg\")\n",
        "    print(f\"LSTM Prediction (Predicted Status): {predicted_label}\")\n",
        "    print()\n",
        "\n",
        "\n",
        "# Evaluasi performa model\n",
        "accuracy = accuracy_score(y_val_classes, nutrition_predictions_classes)\n",
        "print(\"=== Evaluasi Performa Model ===\")\n",
        "print(f\"Accuracy: {accuracy:.4f}\")\n",
        "\n",
        "# Tampilkan classification report untuk metrik lebih detail\n",
        "report = classification_report(y_val_classes, nutrition_predictions_classes, target_names=label_encoder.classes_)\n",
        "print(\"Classification Report:\")\n",
        "print(report)\n"
      ],
      "metadata": {
        "colab": {
          "base_uri": "https://localhost:8080/"
        },
        "id": "uhcf8x1IEzKl",
        "outputId": "a4a146b0-3e7b-4fed-e444-9ec214711ba3"
      },
      "execution_count": 38,
      "outputs": [
        {
          "output_type": "stream",
          "name": "stdout",
          "text": [
            "\u001b[1m2/2\u001b[0m \u001b[32m━━━━━━━━━━━━━━━━━━━━\u001b[0m\u001b[37m\u001b[0m \u001b[1m0s\u001b[0m 5ms/step \n",
            "=== Contoh Prediksi Status Gizi ===\n",
            "Contoh ke-1:\n",
            "True Label (Actual Data): Usia: 8.0 tahun, Tinggi: 107.6 cm, Berat: 48.2 kg\n",
            "LSTM Prediction (Predicted Status): Gizi Lebih\n",
            "\n",
            "Contoh ke-2:\n",
            "True Label (Actual Data): Usia: 9.0 tahun, Tinggi: 127.1 cm, Berat: 35.6 kg\n",
            "LSTM Prediction (Predicted Status): Gizi Baik\n",
            "\n",
            "Contoh ke-3:\n",
            "True Label (Actual Data): Usia: 10.0 tahun, Tinggi: 123.3 cm, Berat: 43.3 kg\n",
            "LSTM Prediction (Predicted Status): Gizi Lebih\n",
            "\n",
            "Contoh ke-4:\n",
            "True Label (Actual Data): Usia: 11.0 tahun, Tinggi: 136.6 cm, Berat: 37.6 kg\n",
            "LSTM Prediction (Predicted Status): Gizi Baik\n",
            "\n",
            "Contoh ke-5:\n",
            "True Label (Actual Data): Usia: 9.0 tahun, Tinggi: 112.1 cm, Berat: 20.0 kg\n",
            "LSTM Prediction (Predicted Status): Gizi Kurang\n",
            "\n",
            "Contoh ke-6:\n",
            "True Label (Actual Data): Usia: 11.0 tahun, Tinggi: 129.2 cm, Berat: 21.5 kg\n",
            "LSTM Prediction (Predicted Status): Gizi Kurang\n",
            "\n",
            "Contoh ke-7:\n",
            "True Label (Actual Data): Usia: 7.0 tahun, Tinggi: 102.5 cm, Berat: 25.1 kg\n",
            "LSTM Prediction (Predicted Status): Gizi Baik\n",
            "\n",
            "Contoh ke-8:\n",
            "True Label (Actual Data): Usia: 12.0 tahun, Tinggi: 123.5 cm, Berat: 48.1 kg\n",
            "LSTM Prediction (Predicted Status): Gizi Lebih\n",
            "\n",
            "Contoh ke-9:\n",
            "True Label (Actual Data): Usia: 12.0 tahun, Tinggi: 98.6 cm, Berat: 26.7 kg\n",
            "LSTM Prediction (Predicted Status): Gizi Lebih\n",
            "\n",
            "Contoh ke-10:\n",
            "True Label (Actual Data): Usia: 11.0 tahun, Tinggi: 121.1 cm, Berat: 16.9 kg\n",
            "LSTM Prediction (Predicted Status): Gizi Kurang\n",
            "\n",
            "Contoh ke-11:\n",
            "True Label (Actual Data): Usia: 9.0 tahun, Tinggi: 91.3 cm, Berat: 17.9 kg\n",
            "LSTM Prediction (Predicted Status): Gizi Baik\n",
            "\n",
            "Contoh ke-12:\n",
            "True Label (Actual Data): Usia: 4.0 tahun, Tinggi: 124.7 cm, Berat: 27.6 kg\n",
            "LSTM Prediction (Predicted Status): Gizi Kurang\n",
            "\n",
            "Contoh ke-13:\n",
            "True Label (Actual Data): Usia: 6.0 tahun, Tinggi: 148.8 cm, Berat: 21.3 kg\n",
            "LSTM Prediction (Predicted Status): Gizi Kurang\n",
            "\n",
            "Contoh ke-14:\n",
            "True Label (Actual Data): Usia: 12.0 tahun, Tinggi: 146.8 cm, Berat: 15.2 kg\n",
            "LSTM Prediction (Predicted Status): Gizi Kurang\n",
            "\n",
            "Contoh ke-15:\n",
            "True Label (Actual Data): Usia: 10.0 tahun, Tinggi: 123.6 cm, Berat: 31.3 kg\n",
            "LSTM Prediction (Predicted Status): Gizi Baik\n",
            "\n",
            "Contoh ke-16:\n",
            "True Label (Actual Data): Usia: 6.0 tahun, Tinggi: 102.9 cm, Berat: 48.8 kg\n",
            "LSTM Prediction (Predicted Status): Gizi Lebih\n",
            "\n",
            "Contoh ke-17:\n",
            "True Label (Actual Data): Usia: 8.0 tahun, Tinggi: 91.8 cm, Berat: 35.5 kg\n",
            "LSTM Prediction (Predicted Status): Gizi Lebih\n",
            "\n",
            "Contoh ke-18:\n",
            "True Label (Actual Data): Usia: 10.0 tahun, Tinggi: 119.3 cm, Berat: 47.8 kg\n",
            "LSTM Prediction (Predicted Status): Gizi Lebih\n",
            "\n",
            "Contoh ke-19:\n",
            "True Label (Actual Data): Usia: 4.0 tahun, Tinggi: 148.1 cm, Berat: 39.0 kg\n",
            "LSTM Prediction (Predicted Status): Gizi Kurang\n",
            "\n",
            "Contoh ke-20:\n",
            "True Label (Actual Data): Usia: 7.0 tahun, Tinggi: 110.2 cm, Berat: 18.3 kg\n",
            "LSTM Prediction (Predicted Status): Gizi Kurang\n",
            "\n",
            "Contoh ke-21:\n",
            "True Label (Actual Data): Usia: 8.0 tahun, Tinggi: 111.2 cm, Berat: 16.4 kg\n",
            "LSTM Prediction (Predicted Status): Gizi Kurang\n",
            "\n",
            "Contoh ke-22:\n",
            "True Label (Actual Data): Usia: 9.0 tahun, Tinggi: 140.2 cm, Berat: 24.1 kg\n",
            "LSTM Prediction (Predicted Status): Gizi Kurang\n",
            "\n",
            "Contoh ke-23:\n",
            "True Label (Actual Data): Usia: 10.0 tahun, Tinggi: 143.5 cm, Berat: 31.7 kg\n",
            "LSTM Prediction (Predicted Status): Gizi Kurang\n",
            "\n",
            "Contoh ke-24:\n",
            "True Label (Actual Data): Usia: 12.0 tahun, Tinggi: 93.1 cm, Berat: 28.1 kg\n",
            "LSTM Prediction (Predicted Status): Gizi Lebih\n",
            "\n",
            "Contoh ke-25:\n",
            "True Label (Actual Data): Usia: 10.0 tahun, Tinggi: 101.7 cm, Berat: 23.3 kg\n",
            "LSTM Prediction (Predicted Status): Gizi Baik\n",
            "\n",
            "Contoh ke-26:\n",
            "True Label (Actual Data): Usia: 8.0 tahun, Tinggi: 114.7 cm, Berat: 36.0 kg\n",
            "LSTM Prediction (Predicted Status): Gizi Lebih\n",
            "\n",
            "Contoh ke-27:\n",
            "True Label (Actual Data): Usia: 4.0 tahun, Tinggi: 95.7 cm, Berat: 24.6 kg\n",
            "LSTM Prediction (Predicted Status): Gizi Lebih\n",
            "\n",
            "Contoh ke-28:\n",
            "True Label (Actual Data): Usia: 12.0 tahun, Tinggi: 115.0 cm, Berat: 26.5 kg\n",
            "LSTM Prediction (Predicted Status): Gizi Baik\n",
            "\n",
            "Contoh ke-29:\n",
            "True Label (Actual Data): Usia: 9.0 tahun, Tinggi: 110.6 cm, Berat: 41.1 kg\n",
            "LSTM Prediction (Predicted Status): Gizi Lebih\n",
            "\n",
            "Contoh ke-30:\n",
            "True Label (Actual Data): Usia: 6.0 tahun, Tinggi: 113.6 cm, Berat: 36.7 kg\n",
            "LSTM Prediction (Predicted Status): Gizi Lebih\n",
            "\n",
            "Contoh ke-31:\n",
            "True Label (Actual Data): Usia: 6.0 tahun, Tinggi: 111.2 cm, Berat: 18.9 kg\n",
            "LSTM Prediction (Predicted Status): Gizi Kurang\n",
            "\n",
            "Contoh ke-32:\n",
            "True Label (Actual Data): Usia: 4.0 tahun, Tinggi: 101.5 cm, Berat: 22.4 kg\n",
            "LSTM Prediction (Predicted Status): Gizi Baik\n",
            "\n",
            "Contoh ke-33:\n",
            "True Label (Actual Data): Usia: 8.0 tahun, Tinggi: 125.4 cm, Berat: 23.4 kg\n",
            "LSTM Prediction (Predicted Status): Gizi Kurang\n",
            "\n",
            "Contoh ke-34:\n",
            "True Label (Actual Data): Usia: 5.0 tahun, Tinggi: 97.0 cm, Berat: 49.4 kg\n",
            "LSTM Prediction (Predicted Status): Gizi Lebih\n",
            "\n",
            "Contoh ke-35:\n",
            "True Label (Actual Data): Usia: 11.0 tahun, Tinggi: 113.0 cm, Berat: 47.1 kg\n",
            "LSTM Prediction (Predicted Status): Gizi Lebih\n",
            "\n",
            "Contoh ke-36:\n",
            "True Label (Actual Data): Usia: 10.0 tahun, Tinggi: 122.9 cm, Berat: 29.6 kg\n",
            "LSTM Prediction (Predicted Status): Gizi Baik\n",
            "\n",
            "Contoh ke-37:\n",
            "True Label (Actual Data): Usia: 5.0 tahun, Tinggi: 144.8 cm, Berat: 30.2 kg\n",
            "LSTM Prediction (Predicted Status): Gizi Kurang\n",
            "\n",
            "Contoh ke-38:\n",
            "True Label (Actual Data): Usia: 5.0 tahun, Tinggi: 93.2 cm, Berat: 42.0 kg\n",
            "LSTM Prediction (Predicted Status): Gizi Lebih\n",
            "\n",
            "Contoh ke-39:\n",
            "True Label (Actual Data): Usia: 12.0 tahun, Tinggi: 144.1 cm, Berat: 36.4 kg\n",
            "LSTM Prediction (Predicted Status): Gizi Kurang\n",
            "\n",
            "Contoh ke-40:\n",
            "True Label (Actual Data): Usia: 8.0 tahun, Tinggi: 90.8 cm, Berat: 35.3 kg\n",
            "LSTM Prediction (Predicted Status): Gizi Lebih\n",
            "\n",
            "=== Evaluasi Performa Model ===\n",
            "Accuracy: 1.0000\n",
            "Classification Report:\n",
            "              precision    recall  f1-score   support\n",
            "\n",
            "   Gizi Baik       1.00      1.00      1.00         9\n",
            " Gizi Kurang       1.00      1.00      1.00        15\n",
            "  Gizi Lebih       1.00      1.00      1.00        16\n",
            "\n",
            "    accuracy                           1.00        40\n",
            "   macro avg       1.00      1.00      1.00        40\n",
            "weighted avg       1.00      1.00      1.00        40\n",
            "\n"
          ]
        }
      ]
    },
    {
      "cell_type": "code",
      "source": [
        "# **Fitur yang Digunakan**\n",
        "# Pastikan fitur sesuai dengan dataset baru\n",
        "food_features = [\n",
        "    'caloric_value', 'fat', 'saturated_fats', 'monounsaturated_fats',\n",
        "    'polyunsaturated_fats', 'carbohydrates', 'sugars', 'protein',\n",
        "    'dietary_fiber', 'cholesterol', 'sodium', 'water', 'vitamin_a',\n",
        "    'vitamin_b1', 'vitamin_b11', 'vitamin_b12', 'vitamin_b2', 'vitamin_b3',\n",
        "    'vitamin_b5', 'vitamin_b6', 'vitamin_c', 'vitamin_d', 'vitamin_e',\n",
        "    'vitamin_k', 'calcium', 'copper', 'iron', 'magnesium', 'manganese',\n",
        "    'phosphorus', 'potassium', 'selenium', 'zinc', 'nutrition_density'\n",
        "]\n",
        "\n",
        "# **Normalisasi Data**\n",
        "scaler_food = MinMaxScaler()\n",
        "normalized_food_features = scaler_food.fit_transform(food_data[food_features])"
      ],
      "metadata": {
        "id": "2DqWgaf8k_3b"
      },
      "execution_count": 41,
      "outputs": []
    },
    {
      "cell_type": "markdown",
      "source": [],
      "metadata": {
        "id": "u3e-mL_FlAk9"
      }
    },
    {
      "cell_type": "code",
      "source": [
        "# **Model Rekomendasi**\n",
        "# Input preferensi pengguna dan data makanan\n",
        "user_input = Input(shape=(len(food_features),), name=\"user_input\")\n",
        "food_input = Input(shape=(len(food_features),), name=\"food_input\")\n",
        "\n",
        "# Arsitektur Model dengan Dropout dan LeakyReLU\n",
        "concatenated = Concatenate()([user_input, food_input])\n",
        "\n",
        "dense1 = Dense(512, activation='relu')(concatenated)\n",
        "dense1 = BatchNormalization()(dense1)\n",
        "dense1 = Dropout(0.3)(dense1)\n",
        "\n",
        "dense2 = Dense(256, activation='relu')(dense1)\n",
        "dense2 = BatchNormalization()(dense2)\n",
        "dense2 = Dropout(0.2)(dense2)\n",
        "\n",
        "dense3 = Dense(128, activation='relu')(dense2)\n",
        "dense3 = BatchNormalization()(dense3)\n",
        "dense3 = Dropout(0.2)(dense3)\n",
        "\n",
        "output = Dense(1, activation='linear')(dense3)\n",
        "\n",
        "recommendation_model = Model(inputs=[user_input, food_input], outputs=output)\n",
        "recommendation_model.compile(\n",
        "    optimizer=Adam(learning_rate=0.001),\n",
        "    loss='mean_squared_error',\n",
        "    metrics=['mae', 'accuracy']\n",
        ")\n",
        "\n",
        "# **Generate Training Data**\n",
        "# Membuat data preferensi pengguna dan rating acak\n",
        "user_preferences = np.random.uniform(0, 1, size=(len(food_data), len(food_features)))\n",
        "ratings = np.random.uniform(1, 5, size=(len(food_data), 1))\n",
        "\n",
        "# Split data menjadi training dan validation\n",
        "X_train_user, X_val_user, X_train_food, X_val_food, y_train_rec, y_val_rec = train_test_split(\n",
        "    user_preferences, normalized_food_features, ratings, test_size=0.2, random_state=42\n",
        ")\n",
        "\n",
        "# Callback Early Stopping untuk mencegah overfitting\n",
        "early_stopping = EarlyStopping(\n",
        "    monitor='val_loss',\n",
        "    patience=10,\n",
        "    restore_best_weights=True\n",
        ")\n",
        "\n",
        "# **Train Model**\n",
        "history_rec = recommendation_model.fit(\n",
        "    [X_train_user, X_train_food], y_train_rec,\n",
        "    validation_data=([X_val_user, X_val_food], y_val_rec),\n",
        "    epochs=100,\n",
        "    batch_size=32,\n",
        "    verbose=1,\n",
        "    callbacks=[early_stopping]\n",
        ")"
      ],
      "metadata": {
        "colab": {
          "base_uri": "https://localhost:8080/"
        },
        "id": "Hggy872vlAt-",
        "outputId": "fc3d8607-b690-4bf0-de39-a6eb2adc9e6e"
      },
      "execution_count": 74,
      "outputs": [
        {
          "output_type": "stream",
          "name": "stdout",
          "text": [
            "Epoch 1/100\n",
            "\u001b[1m19/19\u001b[0m \u001b[32m━━━━━━━━━━━━━━━━━━━━\u001b[0m\u001b[37m\u001b[0m \u001b[1m4s\u001b[0m 21ms/step - accuracy: 0.0000e+00 - loss: 11.3003 - mae: 2.8632 - val_accuracy: 0.0000e+00 - val_loss: 8.9872 - val_mae: 2.7890\n",
            "Epoch 2/100\n",
            "\u001b[1m19/19\u001b[0m \u001b[32m━━━━━━━━━━━━━━━━━━━━\u001b[0m\u001b[37m\u001b[0m \u001b[1m0s\u001b[0m 8ms/step - accuracy: 0.0000e+00 - loss: 9.1244 - mae: 2.6295 - val_accuracy: 0.0000e+00 - val_loss: 8.0932 - val_mae: 2.6285\n",
            "Epoch 3/100\n",
            "\u001b[1m19/19\u001b[0m \u001b[32m━━━━━━━━━━━━━━━━━━━━\u001b[0m\u001b[37m\u001b[0m \u001b[1m0s\u001b[0m 9ms/step - accuracy: 0.0000e+00 - loss: 7.3246 - mae: 2.3506 - val_accuracy: 0.0000e+00 - val_loss: 7.2254 - val_mae: 2.4577\n",
            "Epoch 4/100\n",
            "\u001b[1m19/19\u001b[0m \u001b[32m━━━━━━━━━━━━━━━━━━━━\u001b[0m\u001b[37m\u001b[0m \u001b[1m0s\u001b[0m 8ms/step - accuracy: 0.0000e+00 - loss: 5.7711 - mae: 2.0681 - val_accuracy: 0.0000e+00 - val_loss: 6.0307 - val_mae: 2.2014\n",
            "Epoch 5/100\n",
            "\u001b[1m19/19\u001b[0m \u001b[32m━━━━━━━━━━━━━━━━━━━━\u001b[0m\u001b[37m\u001b[0m \u001b[1m0s\u001b[0m 9ms/step - accuracy: 0.0000e+00 - loss: 4.7632 - mae: 1.8300 - val_accuracy: 0.0000e+00 - val_loss: 5.4677 - val_mae: 2.0654\n",
            "Epoch 6/100\n",
            "\u001b[1m19/19\u001b[0m \u001b[32m━━━━━━━━━━━━━━━━━━━━\u001b[0m\u001b[37m\u001b[0m \u001b[1m0s\u001b[0m 8ms/step - accuracy: 0.0000e+00 - loss: 4.3457 - mae: 1.7135 - val_accuracy: 0.0000e+00 - val_loss: 3.8110 - val_mae: 1.6227\n",
            "Epoch 7/100\n",
            "\u001b[1m19/19\u001b[0m \u001b[32m━━━━━━━━━━━━━━━━━━━━\u001b[0m\u001b[37m\u001b[0m \u001b[1m0s\u001b[0m 8ms/step - accuracy: 0.0000e+00 - loss: 3.0396 - mae: 1.4171 - val_accuracy: 0.0000e+00 - val_loss: 3.1750 - val_mae: 1.4343\n",
            "Epoch 8/100\n",
            "\u001b[1m19/19\u001b[0m \u001b[32m━━━━━━━━━━━━━━━━━━━━\u001b[0m\u001b[37m\u001b[0m \u001b[1m0s\u001b[0m 10ms/step - accuracy: 0.0000e+00 - loss: 2.5895 - mae: 1.3212 - val_accuracy: 0.0000e+00 - val_loss: 2.8630 - val_mae: 1.3481\n",
            "Epoch 9/100\n",
            "\u001b[1m19/19\u001b[0m \u001b[32m━━━━━━━━━━━━━━━━━━━━\u001b[0m\u001b[37m\u001b[0m \u001b[1m0s\u001b[0m 8ms/step - accuracy: 0.0000e+00 - loss: 2.3892 - mae: 1.2360 - val_accuracy: 0.0000e+00 - val_loss: 2.4420 - val_mae: 1.2241\n",
            "Epoch 10/100\n",
            "\u001b[1m19/19\u001b[0m \u001b[32m━━━━━━━━━━━━━━━━━━━━\u001b[0m\u001b[37m\u001b[0m \u001b[1m0s\u001b[0m 8ms/step - accuracy: 0.0000e+00 - loss: 2.1474 - mae: 1.1929 - val_accuracy: 0.0000e+00 - val_loss: 2.5466 - val_mae: 1.2490\n",
            "Epoch 11/100\n",
            "\u001b[1m19/19\u001b[0m \u001b[32m━━━━━━━━━━━━━━━━━━━━\u001b[0m\u001b[37m\u001b[0m \u001b[1m0s\u001b[0m 8ms/step - accuracy: 0.0000e+00 - loss: 1.6898 - mae: 1.0198 - val_accuracy: 0.0000e+00 - val_loss: 2.1629 - val_mae: 1.1527\n",
            "Epoch 12/100\n",
            "\u001b[1m19/19\u001b[0m \u001b[32m━━━━━━━━━━━━━━━━━━━━\u001b[0m\u001b[37m\u001b[0m \u001b[1m0s\u001b[0m 11ms/step - accuracy: 0.0000e+00 - loss: 1.7180 - mae: 1.0461 - val_accuracy: 0.0000e+00 - val_loss: 1.5906 - val_mae: 1.0048\n",
            "Epoch 13/100\n",
            "\u001b[1m19/19\u001b[0m \u001b[32m━━━━━━━━━━━━━━━━━━━━\u001b[0m\u001b[37m\u001b[0m \u001b[1m0s\u001b[0m 10ms/step - accuracy: 0.0000e+00 - loss: 1.5047 - mae: 0.9917 - val_accuracy: 0.0000e+00 - val_loss: 1.5535 - val_mae: 0.9930\n",
            "Epoch 14/100\n",
            "\u001b[1m19/19\u001b[0m \u001b[32m━━━━━━━━━━━━━━━━━━━━\u001b[0m\u001b[37m\u001b[0m \u001b[1m0s\u001b[0m 12ms/step - accuracy: 0.0000e+00 - loss: 1.6005 - mae: 1.0033 - val_accuracy: 0.0000e+00 - val_loss: 1.6213 - val_mae: 1.0052\n",
            "Epoch 15/100\n",
            "\u001b[1m19/19\u001b[0m \u001b[32m━━━━━━━━━━━━━━━━━━━━\u001b[0m\u001b[37m\u001b[0m \u001b[1m0s\u001b[0m 9ms/step - accuracy: 0.0000e+00 - loss: 1.3561 - mae: 0.9250 - val_accuracy: 0.0000e+00 - val_loss: 1.7555 - val_mae: 1.0405\n",
            "Epoch 16/100\n",
            "\u001b[1m19/19\u001b[0m \u001b[32m━━━━━━━━━━━━━━━━━━━━\u001b[0m\u001b[37m\u001b[0m \u001b[1m0s\u001b[0m 8ms/step - accuracy: 0.0000e+00 - loss: 1.4870 - mae: 0.9949 - val_accuracy: 0.0000e+00 - val_loss: 1.7064 - val_mae: 1.0448\n",
            "Epoch 17/100\n",
            "\u001b[1m19/19\u001b[0m \u001b[32m━━━━━━━━━━━━━━━━━━━━\u001b[0m\u001b[37m\u001b[0m \u001b[1m0s\u001b[0m 8ms/step - accuracy: 0.0000e+00 - loss: 1.3298 - mae: 0.9252 - val_accuracy: 0.0000e+00 - val_loss: 1.7001 - val_mae: 1.0416\n",
            "Epoch 18/100\n",
            "\u001b[1m19/19\u001b[0m \u001b[32m━━━━━━━━━━━━━━━━━━━━\u001b[0m\u001b[37m\u001b[0m \u001b[1m0s\u001b[0m 9ms/step - accuracy: 0.0000e+00 - loss: 1.2183 - mae: 0.8957 - val_accuracy: 0.0000e+00 - val_loss: 1.6226 - val_mae: 1.0242\n",
            "Epoch 19/100\n",
            "\u001b[1m19/19\u001b[0m \u001b[32m━━━━━━━━━━━━━━━━━━━━\u001b[0m\u001b[37m\u001b[0m \u001b[1m0s\u001b[0m 10ms/step - accuracy: 0.0000e+00 - loss: 1.1373 - mae: 0.8402 - val_accuracy: 0.0000e+00 - val_loss: 1.7555 - val_mae: 1.0691\n",
            "Epoch 20/100\n",
            "\u001b[1m19/19\u001b[0m \u001b[32m━━━━━━━━━━━━━━━━━━━━\u001b[0m\u001b[37m\u001b[0m \u001b[1m0s\u001b[0m 10ms/step - accuracy: 0.0000e+00 - loss: 1.3018 - mae: 0.9198 - val_accuracy: 0.0000e+00 - val_loss: 1.5984 - val_mae: 1.0092\n",
            "Epoch 21/100\n",
            "\u001b[1m19/19\u001b[0m \u001b[32m━━━━━━━━━━━━━━━━━━━━\u001b[0m\u001b[37m\u001b[0m \u001b[1m0s\u001b[0m 11ms/step - accuracy: 0.0000e+00 - loss: 1.1508 - mae: 0.8658 - val_accuracy: 0.0000e+00 - val_loss: 1.5433 - val_mae: 1.0028\n",
            "Epoch 22/100\n",
            "\u001b[1m19/19\u001b[0m \u001b[32m━━━━━━━━━━━━━━━━━━━━\u001b[0m\u001b[37m\u001b[0m \u001b[1m0s\u001b[0m 11ms/step - accuracy: 0.0000e+00 - loss: 1.0734 - mae: 0.8304 - val_accuracy: 0.0000e+00 - val_loss: 1.6294 - val_mae: 1.0184\n",
            "Epoch 23/100\n",
            "\u001b[1m19/19\u001b[0m \u001b[32m━━━━━━━━━━━━━━━━━━━━\u001b[0m\u001b[37m\u001b[0m \u001b[1m0s\u001b[0m 10ms/step - accuracy: 0.0000e+00 - loss: 1.0775 - mae: 0.8106 - val_accuracy: 0.0000e+00 - val_loss: 1.5219 - val_mae: 0.9860\n",
            "Epoch 24/100\n",
            "\u001b[1m19/19\u001b[0m \u001b[32m━━━━━━━━━━━━━━━━━━━━\u001b[0m\u001b[37m\u001b[0m \u001b[1m0s\u001b[0m 10ms/step - accuracy: 0.0000e+00 - loss: 1.0482 - mae: 0.8196 - val_accuracy: 0.0000e+00 - val_loss: 1.5674 - val_mae: 1.0075\n",
            "Epoch 25/100\n",
            "\u001b[1m19/19\u001b[0m \u001b[32m━━━━━━━━━━━━━━━━━━━━\u001b[0m\u001b[37m\u001b[0m \u001b[1m0s\u001b[0m 10ms/step - accuracy: 0.0000e+00 - loss: 1.1778 - mae: 0.8498 - val_accuracy: 0.0000e+00 - val_loss: 1.5596 - val_mae: 0.9901\n",
            "Epoch 26/100\n",
            "\u001b[1m19/19\u001b[0m \u001b[32m━━━━━━━━━━━━━━━━━━━━\u001b[0m\u001b[37m\u001b[0m \u001b[1m0s\u001b[0m 10ms/step - accuracy: 0.0000e+00 - loss: 1.1932 - mae: 0.8738 - val_accuracy: 0.0000e+00 - val_loss: 1.5286 - val_mae: 0.9766\n",
            "Epoch 27/100\n",
            "\u001b[1m19/19\u001b[0m \u001b[32m━━━━━━━━━━━━━━━━━━━━\u001b[0m\u001b[37m\u001b[0m \u001b[1m0s\u001b[0m 8ms/step - accuracy: 0.0000e+00 - loss: 1.0522 - mae: 0.8057 - val_accuracy: 0.0000e+00 - val_loss: 1.5123 - val_mae: 0.9751\n",
            "Epoch 28/100\n",
            "\u001b[1m19/19\u001b[0m \u001b[32m━━━━━━━━━━━━━━━━━━━━\u001b[0m\u001b[37m\u001b[0m \u001b[1m0s\u001b[0m 8ms/step - accuracy: 0.0000e+00 - loss: 1.0461 - mae: 0.8071 - val_accuracy: 0.0000e+00 - val_loss: 1.5997 - val_mae: 1.0019\n",
            "Epoch 29/100\n",
            "\u001b[1m19/19\u001b[0m \u001b[32m━━━━━━━━━━━━━━━━━━━━\u001b[0m\u001b[37m\u001b[0m \u001b[1m0s\u001b[0m 7ms/step - accuracy: 0.0000e+00 - loss: 1.0664 - mae: 0.8120 - val_accuracy: 0.0000e+00 - val_loss: 1.6592 - val_mae: 1.0176\n",
            "Epoch 30/100\n",
            "\u001b[1m19/19\u001b[0m \u001b[32m━━━━━━━━━━━━━━━━━━━━\u001b[0m\u001b[37m\u001b[0m \u001b[1m0s\u001b[0m 15ms/step - accuracy: 0.0000e+00 - loss: 0.9836 - mae: 0.8006 - val_accuracy: 0.0000e+00 - val_loss: 1.6826 - val_mae: 1.0243\n",
            "Epoch 31/100\n",
            "\u001b[1m19/19\u001b[0m \u001b[32m━━━━━━━━━━━━━━━━━━━━\u001b[0m\u001b[37m\u001b[0m \u001b[1m0s\u001b[0m 13ms/step - accuracy: 0.0000e+00 - loss: 0.8546 - mae: 0.7543 - val_accuracy: 0.0000e+00 - val_loss: 1.8089 - val_mae: 1.0715\n",
            "Epoch 32/100\n",
            "\u001b[1m19/19\u001b[0m \u001b[32m━━━━━━━━━━━━━━━━━━━━\u001b[0m\u001b[37m\u001b[0m \u001b[1m0s\u001b[0m 13ms/step - accuracy: 0.0000e+00 - loss: 0.9625 - mae: 0.7900 - val_accuracy: 0.0000e+00 - val_loss: 1.6523 - val_mae: 1.0310\n",
            "Epoch 33/100\n",
            "\u001b[1m19/19\u001b[0m \u001b[32m━━━━━━━━━━━━━━━━━━━━\u001b[0m\u001b[37m\u001b[0m \u001b[1m0s\u001b[0m 13ms/step - accuracy: 0.0000e+00 - loss: 0.7581 - mae: 0.6953 - val_accuracy: 0.0000e+00 - val_loss: 1.5781 - val_mae: 0.9968\n",
            "Epoch 34/100\n",
            "\u001b[1m19/19\u001b[0m \u001b[32m━━━━━━━━━━━━━━━━━━━━\u001b[0m\u001b[37m\u001b[0m \u001b[1m0s\u001b[0m 13ms/step - accuracy: 0.0000e+00 - loss: 0.7936 - mae: 0.7165 - val_accuracy: 0.0000e+00 - val_loss: 1.5792 - val_mae: 1.0095\n",
            "Epoch 35/100\n",
            "\u001b[1m19/19\u001b[0m \u001b[32m━━━━━━━━━━━━━━━━━━━━\u001b[0m\u001b[37m\u001b[0m \u001b[1m0s\u001b[0m 14ms/step - accuracy: 0.0000e+00 - loss: 0.7639 - mae: 0.7025 - val_accuracy: 0.0000e+00 - val_loss: 1.6492 - val_mae: 1.0209\n",
            "Epoch 36/100\n",
            "\u001b[1m19/19\u001b[0m \u001b[32m━━━━━━━━━━━━━━━━━━━━\u001b[0m\u001b[37m\u001b[0m \u001b[1m1s\u001b[0m 16ms/step - accuracy: 0.0000e+00 - loss: 0.8083 - mae: 0.7251 - val_accuracy: 0.0000e+00 - val_loss: 1.6273 - val_mae: 0.9948\n",
            "Epoch 37/100\n",
            "\u001b[1m19/19\u001b[0m \u001b[32m━━━━━━━━━━━━━━━━━━━━\u001b[0m\u001b[37m\u001b[0m \u001b[1m1s\u001b[0m 14ms/step - accuracy: 0.0000e+00 - loss: 0.7717 - mae: 0.6866 - val_accuracy: 0.0000e+00 - val_loss: 1.6526 - val_mae: 1.0173\n"
          ]
        }
      ]
    },
    {
      "cell_type": "markdown",
      "source": [],
      "metadata": {
        "id": "l9TTeOU7lDmz"
      }
    },
    {
      "cell_type": "code",
      "source": [
        "# Evaluasi model rekomendasi makanan\n",
        "y_pred_rec = recommendation_model.predict([X_val_user, X_val_food]).flatten()\n",
        "\n",
        "# Hitung Mean Squared Error (MSE) dan Mean Absolute Error (MAE)\n",
        "mse_rec = mean_squared_error(y_val_rec, y_pred_rec)\n",
        "mae_rec = mean_absolute_error(y_val_rec, y_pred_rec)\n",
        "\n",
        "print(f\"MSE Model Rekomendasi Makanan: {mse_rec:.4f}\")\n",
        "print(f\"MAE Model Rekomendasi Makanan: {mae_rec:.4f}\")\n",
        "\n",
        "# Konversi MAE ke persen untuk interpretasi yang lebih mudah\n",
        "mean_rating = np.mean(y_val_rec)\n",
        "percentage_error = (mae_rec / mean_rating) * 100\n",
        "print(f\"Kesalahan Rata-rata Model Rekomendasi Makanan: {percentage_error:.2f}%\")\n"
      ],
      "metadata": {
        "colab": {
          "base_uri": "https://localhost:8080/"
        },
        "id": "4BpZE7MAKa0l",
        "outputId": "25ee1aa5-217a-4e7f-a29b-c106f4961714"
      },
      "execution_count": 75,
      "outputs": [
        {
          "output_type": "stream",
          "name": "stdout",
          "text": [
            "\u001b[1m5/5\u001b[0m \u001b[32m━━━━━━━━━━━━━━━━━━━━\u001b[0m\u001b[37m\u001b[0m \u001b[1m1s\u001b[0m 234ms/step\n",
            "MSE Model Rekomendasi Makanan: 1.5123\n",
            "MAE Model Rekomendasi Makanan: 0.9751\n",
            "Kesalahan Rata-rata Model Rekomendasi Makanan: 33.29%\n"
          ]
        }
      ]
    },
    {
      "cell_type": "markdown",
      "source": [],
      "metadata": {
        "id": "3th0KWqAKbF1"
      }
    },
    {
      "cell_type": "code",
      "source": [
        "# Tampilkan summary model prediksi analisis gizi anak\n",
        "print(\"\\nSummary of Nutrition Analysis Model (LSTM):\")\n",
        "recommendation_model.summary()"
      ],
      "metadata": {
        "colab": {
          "base_uri": "https://localhost:8080/",
          "height": 698
        },
        "id": "VMUebyQ3TigW",
        "outputId": "659b3df5-9802-4627-ff26-015829232df1"
      },
      "execution_count": 72,
      "outputs": [
        {
          "output_type": "stream",
          "name": "stdout",
          "text": [
            "\n",
            "Summary of Nutrition Analysis Model (LSTM):\n"
          ]
        },
        {
          "output_type": "display_data",
          "data": {
            "text/plain": [
              "\u001b[1mModel: \"functional_42\"\u001b[0m\n"
            ],
            "text/html": [
              "<pre style=\"white-space:pre;overflow-x:auto;line-height:normal;font-family:Menlo,'DejaVu Sans Mono',consolas,'Courier New',monospace\"><span style=\"font-weight: bold\">Model: \"functional_42\"</span>\n",
              "</pre>\n"
            ]
          },
          "metadata": {}
        },
        {
          "output_type": "display_data",
          "data": {
            "text/plain": [
              "┏━━━━━━━━━━━━━━━━━━━━━━━━━━━┳━━━━━━━━━━━━━━━━━━━━━━━━┳━━━━━━━━━━━━━━━━┳━━━━━━━━━━━━━━━━━━━━━━━━┓\n",
              "┃\u001b[1m \u001b[0m\u001b[1mLayer (type)             \u001b[0m\u001b[1m \u001b[0m┃\u001b[1m \u001b[0m\u001b[1mOutput Shape          \u001b[0m\u001b[1m \u001b[0m┃\u001b[1m \u001b[0m\u001b[1m       Param #\u001b[0m\u001b[1m \u001b[0m┃\u001b[1m \u001b[0m\u001b[1mConnected to          \u001b[0m\u001b[1m \u001b[0m┃\n",
              "┡━━━━━━━━━━━━━━━━━━━━━━━━━━━╇━━━━━━━━━━━━━━━━━━━━━━━━╇━━━━━━━━━━━━━━━━╇━━━━━━━━━━━━━━━━━━━━━━━━┩\n",
              "│ user_input (\u001b[38;5;33mInputLayer\u001b[0m)   │ (\u001b[38;5;45mNone\u001b[0m, \u001b[38;5;34m34\u001b[0m)             │              \u001b[38;5;34m0\u001b[0m │ -                      │\n",
              "├───────────────────────────┼────────────────────────┼────────────────┼────────────────────────┤\n",
              "│ food_input (\u001b[38;5;33mInputLayer\u001b[0m)   │ (\u001b[38;5;45mNone\u001b[0m, \u001b[38;5;34m34\u001b[0m)             │              \u001b[38;5;34m0\u001b[0m │ -                      │\n",
              "├───────────────────────────┼────────────────────────┼────────────────┼────────────────────────┤\n",
              "│ concatenate_39            │ (\u001b[38;5;45mNone\u001b[0m, \u001b[38;5;34m68\u001b[0m)             │              \u001b[38;5;34m0\u001b[0m │ user_input[\u001b[38;5;34m0\u001b[0m][\u001b[38;5;34m0\u001b[0m],      │\n",
              "│ (\u001b[38;5;33mConcatenate\u001b[0m)             │                        │                │ food_input[\u001b[38;5;34m0\u001b[0m][\u001b[38;5;34m0\u001b[0m]       │\n",
              "├───────────────────────────┼────────────────────────┼────────────────┼────────────────────────┤\n",
              "│ dense_126 (\u001b[38;5;33mDense\u001b[0m)         │ (\u001b[38;5;45mNone\u001b[0m, \u001b[38;5;34m512\u001b[0m)            │         \u001b[38;5;34m35,328\u001b[0m │ concatenate_39[\u001b[38;5;34m0\u001b[0m][\u001b[38;5;34m0\u001b[0m]   │\n",
              "├───────────────────────────┼────────────────────────┼────────────────┼────────────────────────┤\n",
              "│ batch_normalization_12    │ (\u001b[38;5;45mNone\u001b[0m, \u001b[38;5;34m512\u001b[0m)            │          \u001b[38;5;34m2,048\u001b[0m │ dense_126[\u001b[38;5;34m0\u001b[0m][\u001b[38;5;34m0\u001b[0m]        │\n",
              "│ (\u001b[38;5;33mBatchNormalization\u001b[0m)      │                        │                │                        │\n",
              "├───────────────────────────┼────────────────────────┼────────────────┼────────────────────────┤\n",
              "│ dropout_41 (\u001b[38;5;33mDropout\u001b[0m)      │ (\u001b[38;5;45mNone\u001b[0m, \u001b[38;5;34m512\u001b[0m)            │              \u001b[38;5;34m0\u001b[0m │ batch_normalization_1… │\n",
              "├───────────────────────────┼────────────────────────┼────────────────┼────────────────────────┤\n",
              "│ dense_127 (\u001b[38;5;33mDense\u001b[0m)         │ (\u001b[38;5;45mNone\u001b[0m, \u001b[38;5;34m256\u001b[0m)            │        \u001b[38;5;34m131,328\u001b[0m │ dropout_41[\u001b[38;5;34m0\u001b[0m][\u001b[38;5;34m0\u001b[0m]       │\n",
              "├───────────────────────────┼────────────────────────┼────────────────┼────────────────────────┤\n",
              "│ batch_normalization_13    │ (\u001b[38;5;45mNone\u001b[0m, \u001b[38;5;34m256\u001b[0m)            │          \u001b[38;5;34m1,024\u001b[0m │ dense_127[\u001b[38;5;34m0\u001b[0m][\u001b[38;5;34m0\u001b[0m]        │\n",
              "│ (\u001b[38;5;33mBatchNormalization\u001b[0m)      │                        │                │                        │\n",
              "├───────────────────────────┼────────────────────────┼────────────────┼────────────────────────┤\n",
              "│ dropout_42 (\u001b[38;5;33mDropout\u001b[0m)      │ (\u001b[38;5;45mNone\u001b[0m, \u001b[38;5;34m256\u001b[0m)            │              \u001b[38;5;34m0\u001b[0m │ batch_normalization_1… │\n",
              "├───────────────────────────┼────────────────────────┼────────────────┼────────────────────────┤\n",
              "│ dense_128 (\u001b[38;5;33mDense\u001b[0m)         │ (\u001b[38;5;45mNone\u001b[0m, \u001b[38;5;34m128\u001b[0m)            │         \u001b[38;5;34m32,896\u001b[0m │ dropout_42[\u001b[38;5;34m0\u001b[0m][\u001b[38;5;34m0\u001b[0m]       │\n",
              "├───────────────────────────┼────────────────────────┼────────────────┼────────────────────────┤\n",
              "│ batch_normalization_14    │ (\u001b[38;5;45mNone\u001b[0m, \u001b[38;5;34m128\u001b[0m)            │            \u001b[38;5;34m512\u001b[0m │ dense_128[\u001b[38;5;34m0\u001b[0m][\u001b[38;5;34m0\u001b[0m]        │\n",
              "│ (\u001b[38;5;33mBatchNormalization\u001b[0m)      │                        │                │                        │\n",
              "├───────────────────────────┼────────────────────────┼────────────────┼────────────────────────┤\n",
              "│ dropout_43 (\u001b[38;5;33mDropout\u001b[0m)      │ (\u001b[38;5;45mNone\u001b[0m, \u001b[38;5;34m128\u001b[0m)            │              \u001b[38;5;34m0\u001b[0m │ batch_normalization_1… │\n",
              "├───────────────────────────┼────────────────────────┼────────────────┼────────────────────────┤\n",
              "│ dense_129 (\u001b[38;5;33mDense\u001b[0m)         │ (\u001b[38;5;45mNone\u001b[0m, \u001b[38;5;34m1\u001b[0m)              │            \u001b[38;5;34m129\u001b[0m │ dropout_43[\u001b[38;5;34m0\u001b[0m][\u001b[38;5;34m0\u001b[0m]       │\n",
              "└───────────────────────────┴────────────────────────┴────────────────┴────────────────────────┘\n"
            ],
            "text/html": [
              "<pre style=\"white-space:pre;overflow-x:auto;line-height:normal;font-family:Menlo,'DejaVu Sans Mono',consolas,'Courier New',monospace\">┏━━━━━━━━━━━━━━━━━━━━━━━━━━━┳━━━━━━━━━━━━━━━━━━━━━━━━┳━━━━━━━━━━━━━━━━┳━━━━━━━━━━━━━━━━━━━━━━━━┓\n",
              "┃<span style=\"font-weight: bold\"> Layer (type)              </span>┃<span style=\"font-weight: bold\"> Output Shape           </span>┃<span style=\"font-weight: bold\">        Param # </span>┃<span style=\"font-weight: bold\"> Connected to           </span>┃\n",
              "┡━━━━━━━━━━━━━━━━━━━━━━━━━━━╇━━━━━━━━━━━━━━━━━━━━━━━━╇━━━━━━━━━━━━━━━━╇━━━━━━━━━━━━━━━━━━━━━━━━┩\n",
              "│ user_input (<span style=\"color: #0087ff; text-decoration-color: #0087ff\">InputLayer</span>)   │ (<span style=\"color: #00d7ff; text-decoration-color: #00d7ff\">None</span>, <span style=\"color: #00af00; text-decoration-color: #00af00\">34</span>)             │              <span style=\"color: #00af00; text-decoration-color: #00af00\">0</span> │ -                      │\n",
              "├───────────────────────────┼────────────────────────┼────────────────┼────────────────────────┤\n",
              "│ food_input (<span style=\"color: #0087ff; text-decoration-color: #0087ff\">InputLayer</span>)   │ (<span style=\"color: #00d7ff; text-decoration-color: #00d7ff\">None</span>, <span style=\"color: #00af00; text-decoration-color: #00af00\">34</span>)             │              <span style=\"color: #00af00; text-decoration-color: #00af00\">0</span> │ -                      │\n",
              "├───────────────────────────┼────────────────────────┼────────────────┼────────────────────────┤\n",
              "│ concatenate_39            │ (<span style=\"color: #00d7ff; text-decoration-color: #00d7ff\">None</span>, <span style=\"color: #00af00; text-decoration-color: #00af00\">68</span>)             │              <span style=\"color: #00af00; text-decoration-color: #00af00\">0</span> │ user_input[<span style=\"color: #00af00; text-decoration-color: #00af00\">0</span>][<span style=\"color: #00af00; text-decoration-color: #00af00\">0</span>],      │\n",
              "│ (<span style=\"color: #0087ff; text-decoration-color: #0087ff\">Concatenate</span>)             │                        │                │ food_input[<span style=\"color: #00af00; text-decoration-color: #00af00\">0</span>][<span style=\"color: #00af00; text-decoration-color: #00af00\">0</span>]       │\n",
              "├───────────────────────────┼────────────────────────┼────────────────┼────────────────────────┤\n",
              "│ dense_126 (<span style=\"color: #0087ff; text-decoration-color: #0087ff\">Dense</span>)         │ (<span style=\"color: #00d7ff; text-decoration-color: #00d7ff\">None</span>, <span style=\"color: #00af00; text-decoration-color: #00af00\">512</span>)            │         <span style=\"color: #00af00; text-decoration-color: #00af00\">35,328</span> │ concatenate_39[<span style=\"color: #00af00; text-decoration-color: #00af00\">0</span>][<span style=\"color: #00af00; text-decoration-color: #00af00\">0</span>]   │\n",
              "├───────────────────────────┼────────────────────────┼────────────────┼────────────────────────┤\n",
              "│ batch_normalization_12    │ (<span style=\"color: #00d7ff; text-decoration-color: #00d7ff\">None</span>, <span style=\"color: #00af00; text-decoration-color: #00af00\">512</span>)            │          <span style=\"color: #00af00; text-decoration-color: #00af00\">2,048</span> │ dense_126[<span style=\"color: #00af00; text-decoration-color: #00af00\">0</span>][<span style=\"color: #00af00; text-decoration-color: #00af00\">0</span>]        │\n",
              "│ (<span style=\"color: #0087ff; text-decoration-color: #0087ff\">BatchNormalization</span>)      │                        │                │                        │\n",
              "├───────────────────────────┼────────────────────────┼────────────────┼────────────────────────┤\n",
              "│ dropout_41 (<span style=\"color: #0087ff; text-decoration-color: #0087ff\">Dropout</span>)      │ (<span style=\"color: #00d7ff; text-decoration-color: #00d7ff\">None</span>, <span style=\"color: #00af00; text-decoration-color: #00af00\">512</span>)            │              <span style=\"color: #00af00; text-decoration-color: #00af00\">0</span> │ batch_normalization_1… │\n",
              "├───────────────────────────┼────────────────────────┼────────────────┼────────────────────────┤\n",
              "│ dense_127 (<span style=\"color: #0087ff; text-decoration-color: #0087ff\">Dense</span>)         │ (<span style=\"color: #00d7ff; text-decoration-color: #00d7ff\">None</span>, <span style=\"color: #00af00; text-decoration-color: #00af00\">256</span>)            │        <span style=\"color: #00af00; text-decoration-color: #00af00\">131,328</span> │ dropout_41[<span style=\"color: #00af00; text-decoration-color: #00af00\">0</span>][<span style=\"color: #00af00; text-decoration-color: #00af00\">0</span>]       │\n",
              "├───────────────────────────┼────────────────────────┼────────────────┼────────────────────────┤\n",
              "│ batch_normalization_13    │ (<span style=\"color: #00d7ff; text-decoration-color: #00d7ff\">None</span>, <span style=\"color: #00af00; text-decoration-color: #00af00\">256</span>)            │          <span style=\"color: #00af00; text-decoration-color: #00af00\">1,024</span> │ dense_127[<span style=\"color: #00af00; text-decoration-color: #00af00\">0</span>][<span style=\"color: #00af00; text-decoration-color: #00af00\">0</span>]        │\n",
              "│ (<span style=\"color: #0087ff; text-decoration-color: #0087ff\">BatchNormalization</span>)      │                        │                │                        │\n",
              "├───────────────────────────┼────────────────────────┼────────────────┼────────────────────────┤\n",
              "│ dropout_42 (<span style=\"color: #0087ff; text-decoration-color: #0087ff\">Dropout</span>)      │ (<span style=\"color: #00d7ff; text-decoration-color: #00d7ff\">None</span>, <span style=\"color: #00af00; text-decoration-color: #00af00\">256</span>)            │              <span style=\"color: #00af00; text-decoration-color: #00af00\">0</span> │ batch_normalization_1… │\n",
              "├───────────────────────────┼────────────────────────┼────────────────┼────────────────────────┤\n",
              "│ dense_128 (<span style=\"color: #0087ff; text-decoration-color: #0087ff\">Dense</span>)         │ (<span style=\"color: #00d7ff; text-decoration-color: #00d7ff\">None</span>, <span style=\"color: #00af00; text-decoration-color: #00af00\">128</span>)            │         <span style=\"color: #00af00; text-decoration-color: #00af00\">32,896</span> │ dropout_42[<span style=\"color: #00af00; text-decoration-color: #00af00\">0</span>][<span style=\"color: #00af00; text-decoration-color: #00af00\">0</span>]       │\n",
              "├───────────────────────────┼────────────────────────┼────────────────┼────────────────────────┤\n",
              "│ batch_normalization_14    │ (<span style=\"color: #00d7ff; text-decoration-color: #00d7ff\">None</span>, <span style=\"color: #00af00; text-decoration-color: #00af00\">128</span>)            │            <span style=\"color: #00af00; text-decoration-color: #00af00\">512</span> │ dense_128[<span style=\"color: #00af00; text-decoration-color: #00af00\">0</span>][<span style=\"color: #00af00; text-decoration-color: #00af00\">0</span>]        │\n",
              "│ (<span style=\"color: #0087ff; text-decoration-color: #0087ff\">BatchNormalization</span>)      │                        │                │                        │\n",
              "├───────────────────────────┼────────────────────────┼────────────────┼────────────────────────┤\n",
              "│ dropout_43 (<span style=\"color: #0087ff; text-decoration-color: #0087ff\">Dropout</span>)      │ (<span style=\"color: #00d7ff; text-decoration-color: #00d7ff\">None</span>, <span style=\"color: #00af00; text-decoration-color: #00af00\">128</span>)            │              <span style=\"color: #00af00; text-decoration-color: #00af00\">0</span> │ batch_normalization_1… │\n",
              "├───────────────────────────┼────────────────────────┼────────────────┼────────────────────────┤\n",
              "│ dense_129 (<span style=\"color: #0087ff; text-decoration-color: #0087ff\">Dense</span>)         │ (<span style=\"color: #00d7ff; text-decoration-color: #00d7ff\">None</span>, <span style=\"color: #00af00; text-decoration-color: #00af00\">1</span>)              │            <span style=\"color: #00af00; text-decoration-color: #00af00\">129</span> │ dropout_43[<span style=\"color: #00af00; text-decoration-color: #00af00\">0</span>][<span style=\"color: #00af00; text-decoration-color: #00af00\">0</span>]       │\n",
              "└───────────────────────────┴────────────────────────┴────────────────┴────────────────────────┘\n",
              "</pre>\n"
            ]
          },
          "metadata": {}
        },
        {
          "output_type": "display_data",
          "data": {
            "text/plain": [
              "\u001b[1m Total params: \u001b[0m\u001b[38;5;34m606,213\u001b[0m (2.31 MB)\n"
            ],
            "text/html": [
              "<pre style=\"white-space:pre;overflow-x:auto;line-height:normal;font-family:Menlo,'DejaVu Sans Mono',consolas,'Courier New',monospace\"><span style=\"font-weight: bold\"> Total params: </span><span style=\"color: #00af00; text-decoration-color: #00af00\">606,213</span> (2.31 MB)\n",
              "</pre>\n"
            ]
          },
          "metadata": {}
        },
        {
          "output_type": "display_data",
          "data": {
            "text/plain": [
              "\u001b[1m Trainable params: \u001b[0m\u001b[38;5;34m201,473\u001b[0m (787.00 KB)\n"
            ],
            "text/html": [
              "<pre style=\"white-space:pre;overflow-x:auto;line-height:normal;font-family:Menlo,'DejaVu Sans Mono',consolas,'Courier New',monospace\"><span style=\"font-weight: bold\"> Trainable params: </span><span style=\"color: #00af00; text-decoration-color: #00af00\">201,473</span> (787.00 KB)\n",
              "</pre>\n"
            ]
          },
          "metadata": {}
        },
        {
          "output_type": "display_data",
          "data": {
            "text/plain": [
              "\u001b[1m Non-trainable params: \u001b[0m\u001b[38;5;34m1,792\u001b[0m (7.00 KB)\n"
            ],
            "text/html": [
              "<pre style=\"white-space:pre;overflow-x:auto;line-height:normal;font-family:Menlo,'DejaVu Sans Mono',consolas,'Courier New',monospace\"><span style=\"font-weight: bold\"> Non-trainable params: </span><span style=\"color: #00af00; text-decoration-color: #00af00\">1,792</span> (7.00 KB)\n",
              "</pre>\n"
            ]
          },
          "metadata": {}
        },
        {
          "output_type": "display_data",
          "data": {
            "text/plain": [
              "\u001b[1m Optimizer params: \u001b[0m\u001b[38;5;34m402,948\u001b[0m (1.54 MB)\n"
            ],
            "text/html": [
              "<pre style=\"white-space:pre;overflow-x:auto;line-height:normal;font-family:Menlo,'DejaVu Sans Mono',consolas,'Courier New',monospace\"><span style=\"font-weight: bold\"> Optimizer params: </span><span style=\"color: #00af00; text-decoration-color: #00af00\">402,948</span> (1.54 MB)\n",
              "</pre>\n"
            ]
          },
          "metadata": {}
        }
      ]
    },
    {
      "cell_type": "markdown",
      "source": [],
      "metadata": {
        "id": "wtMAgibrTiu-"
      }
    },
    {
      "cell_type": "code",
      "source": [
        "plt.plot(history_rec.history['accuracy'], label='Training Accuracy')\n",
        "plt.plot(history_rec.history['val_accuracy'], label='Validation Accuracy')\n",
        "plt.xlabel('Epoch')\n",
        "plt.ylabel('Accuracy')\n",
        "plt.legend()\n",
        "plt.show()"
      ],
      "metadata": {
        "colab": {
          "base_uri": "https://localhost:8080/",
          "height": 449
        },
        "id": "g35nc3_jTnzm",
        "outputId": "a35a55d1-1a36-447e-ab7c-ef46da1167fe"
      },
      "execution_count": 76,
      "outputs": [
        {
          "output_type": "display_data",
          "data": {
            "text/plain": [
              "<Figure size 640x480 with 1 Axes>"
            ],
            "image/png": "[encoded data removed]"
          },
          "metadata": {}
        }
      ]
    },
    {
      "cell_type": "markdown",
      "source": [],
      "metadata": {
        "id": "ECc0SKzjToFo"
      }
    },
    {
      "cell_type": "code",
      "source": [
        "# Simpan model\n",
        "model_nutrition.save(\"model_nutrition_status.h5\")\n",
        "recommendation_model.save(\"recommendation_model.h5\")\n",
        "\n",
        "# Simpan scaler\n",
        "scalers = {\"scaler_X\": scaler_X, \"scaler_food\": scaler_food}\n",
        "with open(\"scalers.json\", \"w\") as f:\n",
        "    scalers_serializable = {key: scaler.__dict__.copy() for key, scaler in scalers.items()}\n",
        "    for scaler_dict in scalers_serializable.values():\n",
        "        for k, v in scaler_dict.items():\n",
        "            if isinstance(v, np.ndarray):\n",
        "                scaler_dict[k] = v.tolist()\n",
        "    json.dump(scalers_serializable, f)\n",
        "\n",
        "# Pindahkan file ke Google Drive\n",
        "shutil.move(\"model_nutrition_status.h5\", f\"{drive_path}/model_nutrition_status.h5\")\n",
        "shutil.move(\"recommendation_model.h5\", f\"{drive_path}/recommendation_model.h5\")\n",
        "shutil.move(\"scalers.json\", f\"{drive_path}/scalers.json\")\n",
        "\n",
        "print(f\"Models and scalers saved to Google Drive at {drive_path}\")\n"
      ],
      "metadata": {
        "colab": {
          "base_uri": "https://localhost:8080/"
        },
        "id": "OFhgLgnblDuE",
        "outputId": "d47f80ff-9f3e-4974-99c6-0f2003c736e1"
      },
      "execution_count": 45,
      "outputs": [
        {
          "output_type": "stream",
          "name": "stderr",
          "text": [
            "WARNING:absl:You are saving your model as an HDF5 file via `model.save()` or `keras.saving.save_model(model)`. This file format is considered legacy. We recommend using instead the native Keras format, e.g. `model.save('my_model.keras')` or `keras.saving.save_model(model, 'my_model.keras')`. \n",
            "WARNING:absl:You are saving your model as an HDF5 file via `model.save()` or `keras.saving.save_model(model)`. This file format is considered legacy. We recommend using instead the native Keras format, e.g. `model.save('my_model.keras')` or `keras.saving.save_model(model, 'my_model.keras')`. \n"
          ]
        },
        {
          "output_type": "stream",
          "name": "stdout",
          "text": [
            "Models and scalers saved to Google Drive at /content/drive/My Drive/Colab Notebooks/Ekspor Models\n"
          ]
        }
      ]
    },
    {
      "cell_type": "markdown",
      "source": [],
      "metadata": {
        "id": "Ak7pjuCanG8X"
      }
    },
    {
      "cell_type": "code",
      "source": [],
      "metadata": {
        "id": "Zt-e1yH0nHFE"
      },
      "execution_count": null,
      "outputs": []
    },
    {
      "cell_type": "markdown",
      "source": [],
      "metadata": {
        "id": "DS134dQqnru-"
      }
    },
    {
      "cell_type": "code",
      "source": [],
      "metadata": {
        "id": "_8aUmBjKop88"
      },
      "execution_count": null,
      "outputs": []
    },
    {
      "cell_type": "markdown",
      "source": [],
      "metadata": {
        "id": "ePJT3DP6oqgC"
      }
    },
    {
      "cell_type": "code",
      "source": [],
      "metadata": {
        "id": "uZyzbX-poxWi"
      },
      "execution_count": null,
      "outputs": []
    },
    {
      "cell_type": "markdown",
      "source": [],
      "metadata": {
        "id": "3kaoxMcCoxua"
      }
    },
    {
      "cell_type": "code",
      "source": [],
      "metadata": {
        "id": "JTillijfo24a"
      },
      "execution_count": null,
      "outputs": []
    },
    {
      "cell_type": "markdown",
      "source": [],
      "metadata": {
        "id": "z2rkLFzMo3K6"
      }
    },
    {
      "cell_type": "code",
      "source": [],
      "metadata": {
        "id": "vPrV7Bcknr3L"
      },
      "execution_count": null,
      "outputs": []
    },
    {
      "cell_type": "markdown",
      "source": [],
      "metadata": {
        "id": "BWZE5aTNnt8c"
      }
    },
    {
      "cell_type": "code",
      "source": [],
      "metadata": {
        "id": "9IVjv3H9nuF0"
      },
      "execution_count": null,
      "outputs": []
    },
    {
      "cell_type": "markdown",
      "source": [],
      "metadata": {
        "id": "D5mb4wL0nu6e"
      }
    },
    {
      "cell_type": "code",
      "source": [],
      "metadata": {
        "id": "EjDq4ZcUnvj8"
      },
      "execution_count": null,
      "outputs": []
    },
    {
      "cell_type": "markdown",
      "source": [],
      "metadata": {
        "id": "3MDY71jTnxXV"
      }
    },
    {
      "cell_type": "code",
      "source": [],
      "metadata": {
        "id": "7PVhEMSn_398"
      },
      "execution_count": null,
      "outputs": []
    },
    {
      "cell_type": "markdown",
      "source": [],
      "metadata": {
        "id": "izzYSssg_4UM"
      }
    },
    {
      "cell_type": "code",
      "source": [],
      "metadata": {
        "id": "lqadARGFnxhV"
      },
      "execution_count": null,
      "outputs": []
    },
    {
      "cell_type": "code",
      "source": [
        "# import pandas as pd\n",
        "# import os\n",
        "\n",
        "# # Path ke dataset\n",
        "# dataset_path_child_nutrition_data = \"/content/drive/My Drive/Colab Notebooks/Datasets Food Nutrition/child_nutrition_data_200_items.csv\"\n",
        "\n",
        "# # Membaca semua file CSV di folder\n",
        "# csv_files = [file for file in os.listdir(folder_path) if file.endswith('.csv')]\n",
        "\n",
        "# # List untuk menyimpan data dari setiap file\n",
        "# dataframes = []\n",
        "\n",
        "# # Membaca dan menambahkan isi file CSV ke dalam list\n",
        "# for file in csv_files:\n",
        "#     file_path = os.path.join(folder_path, file)\n",
        "#     df = pd.read_csv(file_path)  # Membaca CSV\n",
        "#     dataframes.append(df)  # Menambahkan DataFrame ke dalam list\n",
        "\n",
        "# # Menggabungkan semua DataFrame\n",
        "# combined_df = pd.concat(dataframes, ignore_index=True)\n",
        "\n",
        "# # Menyimpan hasil ke file baru\n",
        "# combined_df.to_csv(\"combined_output.csv\", index=False)\n",
        "\n",
        "# print(\"Semua file CSV berhasil digabungkan ke 'combined_output.csv'\")\n"
      ],
      "metadata": {
        "id": "_7U9LAwP4sXT"
      },
      "execution_count": null,
      "outputs": []
    }
  ]
}